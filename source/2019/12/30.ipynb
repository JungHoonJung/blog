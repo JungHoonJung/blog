{
 "cells": [
  {
   "cell_type": "markdown",
   "metadata": {},
   "source": [
    "# 2019.12.15 "
   ]
  },
  {
   "cell_type": "raw",
   "metadata": {
    "raw_mimetype": "text/restructuredtext"
   },
   "source": [
    ".. contents:: Content :\n",
    "  :depth: 2\n",
    "  :local:\n"
   ]
  },
  {
   "cell_type": "markdown",
   "metadata": {},
   "source": [
    "## Summary\n",
    "\n",
    "시험이 끝나고 약 1주일 간 교수님과 논문 마지막 그림 만들기 하는중"
   ]
  },
  {
   "cell_type": "markdown",
   "metadata": {},
   "source": [
    "## New Topic"
   ]
  },
  {
   "cell_type": "markdown",
   "metadata": {},
   "source": [
    "### ctypes"
   ]
  },
  {
   "cell_type": "markdown",
   "metadata": {},
   "source": [
    "ctypes란, Python용 C 확장으로 C namespace 에서 정의되어 있는 함수를 shared object 파일로 부터 읽어오는 모듈을 일컫는다.\n",
    "\n",
    "기존 C의 속도에 비해서는 상당히 느릴 수 있지만 루프문이나 내부 연산을 C에서 적당히 사용하고 결과만 호출 factorization을 잘 할수록 성능향상을 꾀할 수 있어 좋다.\n",
    "\n",
    "그중에서도 numpy를 이용한 확장이 중요한데, numpy array를 받아서 함수로 제조하는 경우 다음 cookbook을 이용할 것.\n",
    "\n",
    "[Scipy-cookbook-ctypes](https://scipy-cookbook.readthedocs.io/items/Ctypes.html)"
   ]
  },
  {
   "cell_type": "markdown",
   "metadata": {},
   "source": [
    "### Numba"
   ]
  },
  {
   "cell_type": "markdown",
   "metadata": {},
   "source": [
    "약 3일 전, Numba를 이용한 최적화에 돌입하였다. 다른 부분은 제외하고 xxzchain.Operator의 Operation function들만 Numba JIT compiler를 이용하여 최적화 한 후 약간의 성능 향상을 보았지만,\n",
    "교수님 프로그램과 비교했을 시에 약 100배정도의 차이가 나는 것을 확인할 수 있다.  \n",
    "추가로 JIT compiler의 한계로 xxzchain.load_system의 시간이 기존에 비해 비약적으로 느려졌으며, 사실상 이득보다 손해가 더 클 것으로 예상된다. 하루 빨리 더 나은 최적화 방안을 찾을 수 있도록."
   ]
  },
  {
   "cell_type": "markdown",
   "metadata": {},
   "source": [
    "##  To do\n",
    "\n",
    "### Professionally\n",
    "* Quantum mechanics test study and pass\n",
    "* Advanced Statistical Mechanics design the code of example.\n",
    "* Summary the docs.\n",
    "    \n",
    "### Individually\n",
    "* keep teeth clean\n",
    "* eating slowly\n",
    "* early waking up"
   ]
  }
 ],
 "metadata": {
  "celltoolbar": "Raw Cell Format",
  "kernelspec": {
   "display_name": "Python 3",
   "language": "python",
   "name": "python3"
  },
  "language_info": {
   "codemirror_mode": {
    "name": "ipython",
    "version": 3
   },
   "file_extension": ".py",
   "mimetype": "text/x-python",
   "name": "python",
   "nbconvert_exporter": "python",
   "pygments_lexer": "ipython3",
   "version": "3.6.8"
  }
 },
 "nbformat": 4,
 "nbformat_minor": 2
}
