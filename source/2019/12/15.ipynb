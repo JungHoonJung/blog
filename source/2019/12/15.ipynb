{
 "cells": [
  {
   "cell_type": "markdown",
   "metadata": {},
   "source": [
    "# 2019.12.15 "
   ]
  },
  {
   "cell_type": "raw",
   "metadata": {
    "raw_mimetype": "text/restructuredtext"
   },
   "source": [
    ".. contents:: Content :\n",
    "  :depth: 2\n",
    "  :local:\n"
   ]
  },
  {
   "cell_type": "markdown",
   "metadata": {},
   "source": [
    "## Summary\n",
    "\n",
    "하루 종일 양자역학 과제 및 기말 시험 준비. [양자역학 과제 1](../../QM/homework1.ipynb) (Not completed Only until 3.a)"
   ]
  },
  {
   "cell_type": "markdown",
   "metadata": {},
   "source": [
    "##  To do\n",
    "\n",
    "### Professionally\n",
    "* Quantum mechanics test study and pass\n",
    "* Advanced Statistical Mechanics design the code of example.\n",
    "* Summary the docs.\n",
    "    \n",
    "### Individually\n",
    "* keep teeth clean\n",
    "* eating slowly\n",
    "* early waking up"
   ]
  }
 ],
 "metadata": {
  "celltoolbar": "Raw Cell Format",
  "kernelspec": {
   "display_name": "Python 3",
   "language": "python",
   "name": "python3"
  },
  "language_info": {
   "codemirror_mode": {
    "name": "ipython",
    "version": 3
   },
   "file_extension": ".py",
   "mimetype": "text/x-python",
   "name": "python",
   "nbconvert_exporter": "python",
   "pygments_lexer": "ipython3",
   "version": "3.7.4"
  }
 },
 "nbformat": 4,
 "nbformat_minor": 2
}
