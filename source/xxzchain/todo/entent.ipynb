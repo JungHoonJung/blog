{
 "cells": [
  {
   "cell_type": "markdown",
   "metadata": {},
   "source": [
    "# Entanglement Entropy"
   ]
  },
  {
   "cell_type": "markdown",
   "metadata": {},
   "source": [
    "## Basis"
   ]
  },
  {
   "cell_type": "markdown",
   "metadata": {},
   "source": [
    "### Attribute\n",
    "\n",
    " - state\n",
    " - address\n",
    " - period\n",
    " - distance (optional)\n",
    " - state_set\n",
    " - counts"
   ]
  },
  {
   "cell_type": "markdown",
   "metadata": {},
   "source": [
    "### state(representative)"
   ]
  },
  {
   "cell_type": "markdown",
   "metadata": {},
   "source": [
    "state is a set of representative state of basis sector, The Hilbert space can be decomposed by simultaneous eigenvalues. we called basis sector with rearrage and enclose with same eigenvalues. which mean is each basis has full information of state descibed by that."
   ]
  },
  {
   "cell_type": "markdown",
   "metadata": {},
   "source": [
    "In that sense, state can be called representative such that each component of `state` is not a single state but set of states with proper normalization `period`"
   ]
  },
  {
   "cell_type": "markdown",
   "metadata": {},
   "source": [
    "the set of states that is represented in single state is recorded in `state_set`"
   ]
  },
  {
   "cell_type": "markdown",
   "metadata": {},
   "source": [
    "Entanglement Entropy(ent. ent.) can be calculated by Singular Value Decomposition of matrix which is coming from state's ket vector. Making matrix is nothing but writing down that vector in full Hilbert space, and reshaping to a matrix with $2^i$ by $2^{L-i}$."
   ]
  },
  {
   "cell_type": "markdown",
   "metadata": {},
   "source": [
    "## Writing down a state vector in full Hilbert space"
   ]
  },
  {
   "cell_type": "markdown",
   "metadata": {},
   "source": [
    "$$|\\psi\\rangle = \\sum_a C_a |\\widetilde a\\rangle$$"
   ]
  },
  {
   "cell_type": "markdown",
   "metadata": {},
   "source": [
    "note that the $|a\\rangle$ is representative state as same as each component inside of `state`"
   ]
  },
  {
   "cell_type": "markdown",
   "metadata": {},
   "source": [
    "So that, $|a\\rangle$ can be written below"
   ]
  },
  {
   "cell_type": "markdown",
   "metadata": {},
   "source": [
    "$$\n",
    "|a\\rangle = \\mathcal{N}(a)\\,(\\mathrm{simultaneous\\, operators})|\\widetilde a\\rangle = | a\\rangle +| a'\\rangle + | a''\\rangle \\dots = \\mathrm{state \\, set}\n",
    "$$"
   ]
  },
  {
   "cell_type": "markdown",
   "metadata": {},
   "source": [
    "$\\mathcal{N}(a)$ can be calculated as $1/{\\sqrt {p(a)}}$, $p(a)$ is `period` of $\\widetilde a$"
   ]
  },
  {
   "cell_type": "markdown",
   "metadata": {},
   "source": [
    "Now, let $n$ for full Hilbert space"
   ]
  },
  {
   "cell_type": "markdown",
   "metadata": {},
   "source": [
    "$$\n",
    "\\mathrm{for}\\quad |n \\rangle,  \\quad (n = 0,1,2 \\dots 2^L-1) \\\\\n",
    "|\\psi \\rangle = \\sum_n C_n |n\\rangle\n",
    "$$"
   ]
  },
  {
   "cell_type": "markdown",
   "metadata": {},
   "source": [
    "for clarity, set basis sector of spin conserving $N$, momentum $K$, spin inversion $X$, space reversing $R$"
   ]
  },
  {
   "cell_type": "markdown",
   "metadata": {},
   "source": [
    "then, $\\widetilde a$ can be written as below,\n",
    "$$\n",
    "\\begin{align}\n",
    "|\\widetilde  a\\rangle &= \\mathcal{N}(1+X\\hat X)(1+R\\hat R)\\left(\\sum_{l=0}^{L-1}K^{-l} \\hat T^l\\right)|a\\rangle \\quad(\\mathrm{Obiously,} \\, a\\in \\{n\\}) \\\\ \n",
    "&= |a\\rangle + K^{-1}\\hat T|a\\rangle + \\dots + X\\hat X|a\\rangle + \\dots +R\\hat R|a\\rangle + \\dots + RX\\hat R\\hat X|a\\rangle+\\dots\n",
    "\\end{align}\n",
    "$$"
   ]
  },
  {
   "cell_type": "markdown",
   "metadata": {},
   "source": [
    "for arbitrary term of above $|b\\rangle$,\n",
    "$$\n",
    "\\mathcal{N} K^{-d} X R |{\\hat T}^d \\hat R \\hat Xa\\rangle\n",
    "$$"
   ]
  },
  {
   "cell_type": "markdown",
   "metadata": {},
   "source": [
    "pseudo code\n",
    "```python\n",
    "for (n=0; n<2^L -1; n++;):\n",
    "    psi_n = 0\n",
    "\n",
    "for a in {psi};\n",
    "    for b in {a};\n",
    "        do;\n",
    "            psi_b = C_a NK^{-d}RX\n",
    "        done;\n",
    "```"
   ]
  },
  {
   "cell_type": "markdown",
   "metadata": {},
   "source": [
    "If we get the full Hilbert space vector, it is easy to derive "
   ]
  },
  {
   "cell_type": "code",
   "execution_count": null,
   "metadata": {},
   "outputs": [],
   "source": []
  }
 ],
 "metadata": {
  "kernelspec": {
   "display_name": "Python 3",
   "language": "python",
   "name": "python3"
  },
  "language_info": {
   "codemirror_mode": {
    "name": "ipython",
    "version": 3
   },
   "file_extension": ".py",
   "mimetype": "text/x-python",
   "name": "python",
   "nbconvert_exporter": "python",
   "pygments_lexer": "ipython3",
   "version": "3.7.4"
  }
 },
 "nbformat": 4,
 "nbformat_minor": 2
}
