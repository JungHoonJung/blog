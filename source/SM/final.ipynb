{
 "cells": [
  {
   "cell_type": "code",
   "execution_count": 1,
   "metadata": {
    "slideshow": {
     "slide_type": "skip"
    }
   },
   "outputs": [],
   "source": [
    "from IPython.display import clear_output\n",
    "import numpy as np\n",
    "import matplotlib.pyplot as plt\n",
    "import h5py \n",
    "import logging"
   ]
  },
  {
   "cell_type": "code",
   "execution_count": 2,
   "metadata": {
    "slideshow": {
     "slide_type": "skip"
    }
   },
   "outputs": [],
   "source": [
    "LogFormatter = logging.Formatter(\"%(asctime)s '%(name)-10s' : [%(levelname)8s] %(message)s\")# (ln : %(lineno)4s)\")"
   ]
  },
  {
   "cell_type": "code",
   "execution_count": 378,
   "metadata": {
    "slideshow": {
     "slide_type": "skip"
    }
   },
   "outputs": [
    {
     "ename": "SyntaxError",
     "evalue": "invalid syntax (<ipython-input-378-63a04baf7805>, line 142)",
     "output_type": "error",
     "traceback": [
      "\u001b[1;36m  File \u001b[1;32m\"<ipython-input-378-63a04baf7805>\"\u001b[1;36m, line \u001b[1;32m142\u001b[0m\n\u001b[1;33m    self.spins[*target] = -direction\u001b[0m\n\u001b[1;37m               ^\u001b[0m\n\u001b[1;31mSyntaxError\u001b[0m\u001b[1;31m:\u001b[0m invalid syntax\n"
     ]
    }
   ],
   "source": [
    "class IsingModel:\n",
    "    \"\"\"Ising model simulation class.\n",
    "\n",
    "    Parameters\n",
    "    ----------\n",
    "    L : integer\n",
    "        The system size as integer.\n",
    "    T : float or array (optional)\n",
    "        Temperature(s) where you want to simulate(Default = 1).\n",
    "    H : float or array (optional)\n",
    "        Intensity of external magnetic field (Defalut = 0).\n",
    "        \n",
    "    initial configuration is disordered state. If you want to turn to ordered, use 'set_ordered()'.\n",
    "\n",
    "    \"\"\"\n",
    "    \n",
    "    \n",
    "    def __init__(self, L, random_field = False, seed = None, **kwarg):\n",
    "        D = 2\n",
    "        self.size = np.power(L,D)\n",
    "        self.L = L\n",
    "        self.D = D\n",
    "        self.H, self.T = None, None\n",
    "        self.random_field = random_field\n",
    "        #if not kwarg:\n",
    "        #    kwarg['t'] = 1\n",
    "        if not seed is None:\n",
    "            np.random.seed(seed)\n",
    "        self.logger = logging.getLogger(\"ising\")\n",
    "        self.logger.setLevel(logging.DEBUG)\n",
    "        if not self.logger.handlers:\n",
    "            stream = logging.StreamHandler()\n",
    "            stream.setFormatter(LogFormatter)\n",
    "            self.logger.addHandler(stream)\n",
    "        self.logger.info(\"system start\")\n",
    "        self.algorithm = {}\n",
    "        for metro in ['M',\"metropolis\",\"Metropolis\", \"m\", 'metro']:\n",
    "            self.algorithm[metro] = self.Metropolis\n",
    "        for wo in ['W','Wolff','w','wolff']:\n",
    "            self.algorithm[wo] = self.Wolff\n",
    "        self.set_parameter(**kwarg)\n",
    "        self.initialize()\n",
    "        \n",
    "    def set_parameter(self,**kwarg):\n",
    "        \"\"\"Setting parameters of Ising model.\n",
    "        \n",
    "        Parameters\n",
    "        ----------\n",
    "            T : float or array (optional)\n",
    "                Temperature(s) where you want to simulate(Default = 1).\n",
    "            H : float or array (optional)\n",
    "                Intensity of external magnetic field (Defalut = 0).\n",
    "        \"\"\"\n",
    "        logger = self.logger.getChild(\"set_param\")\n",
    "        logger.setLevel(logging.INFO)\n",
    "        \n",
    "        #initializing of parameters\n",
    "        if self.H is None:\n",
    "            self.H = 0\n",
    "        if self.T is None:\n",
    "            self.T = 1\n",
    "        \n",
    "        \n",
    "        #parameter parsing\n",
    "        for param in kwarg:\n",
    "            if param.lower() == 'h':\n",
    "                self.H = kwarg[param]\n",
    "                logger.debug(\"H set as : {}\".format(self.H))\n",
    "            elif param.lower() == 't':\n",
    "                self.T = kwarg[param]\n",
    "                logger.debug(\"T  set as : {}\".format(self.T))\n",
    "        \n",
    "        #pre calculate boltzmann factor\n",
    "        self.metropolis = np.empty([5,2]) #nn up, spin up-down\n",
    "        \n",
    "        DeltaE = 2*((2*np.arange(5)-4)+self.H) #DeltaE/spin  spin_down - spin_up\n",
    "        \n",
    "        if self.T == 0:\n",
    "            self.metropolis.T[0][DeltaE>0] = 0  #exp(-beta*DeltaE) = exp(-beta(2(J*nn_sum*spins + H*spins)))\n",
    "            self.metropolis.T[0][DeltaE<=0] = 1   #nn_sum = 4(=nn) - 2*nUp \n",
    "            self.metropolis.T[1][DeltaE>=0] = 1\n",
    "            self.metropolis.T[1][DeltaE<0] = 0\n",
    "            self.wolff_p = 1 \n",
    "        else:\n",
    "            self.metropolis.T[0] = np.exp(-DeltaE/self.T)\n",
    "            self.metropolis.T[1] = np.exp(DeltaE/self.T)\n",
    "            self.wolff_p = 1 - np.exp(-2/self.T)\n",
    "        \n",
    "        \n",
    "        #boltzmann_factor()\n",
    "        \n",
    "    def initialize(self):\n",
    "        logger = self.logger.getChild(\"Init\")\n",
    "        logger.setLevel(logging.INFO)\n",
    "        #spin site allocation\n",
    "        size= [self.L for i in range(self.D)]\n",
    "        self.spins = 2*np.random.randint(0,2, size=size) -1\n",
    "        self.energy = 0\n",
    "        self.magnetization = self.spins.sum()\n",
    "        J = 1\n",
    "        for i in range(self.size):\n",
    "            logger.debug(\"Number : {}\".format(i))\n",
    "            point = (int(i/self.L), i%self.L)\n",
    "            logger.debug(\"Point : {}\".format(point))\n",
    "            logger.debug(\"Spin State : {}\".format(self.spins[point]))\n",
    "            logger.debug(\"Nearest neighbor : {}\".format(self.spins[self.nn(*point)]))\n",
    "            energy = - (J * self.spins[self.nn(*point)]*self.spins[point]).sum()\n",
    "            logger.debug(\"Energy : {}\".format(energy))\n",
    "            self.energy += energy\n",
    "        self.energy*=1/2\n",
    "        self.energy-= (self.spins*self.H).sum()\n",
    "    \n",
    "    def set_ordered(self, up = True):\n",
    "        \"\"\"\n",
    "        if up is true, all spins will be up-spin. otherwise, down-spin.\n",
    "        \"\"\"\n",
    "        size= [self.L for i in range(self.D)]\n",
    "        self.energy = -2*self.size\n",
    "        if up:\n",
    "            self.magnetization = self.size\n",
    "        else:\n",
    "            self.magnetization = -self.size\n",
    "        self.spins = int(self.magnetization/self.size)*np.ones(size)\n",
    "        self.energy -= (self.spins*self.H).sum()\n",
    "            \n",
    "    \n",
    "    def nn(self, i,j): #critical : only for 2 Dimension (Down,Right,Up,Left)\n",
    "        return np.array([(i+1)%self.L,i,i-1,i]), np.array([j,(j+1)%self.L,j,j-1])\n",
    "    \n",
    "    def Wolff(self,i,p): #single Wolff self.H will be ignored.\n",
    "        logger = self.logger.getChild(\"Wolff\")\n",
    "        point = lambda i: (int(i/self.L), i%self.L)\n",
    "        direction = self.spins[point(i)]\n",
    "        self.spins[point(i)] *= -1\n",
    "        boundary = [point for point in self.nn(*point(i)).T]\n",
    "        while boundary:\n",
    "            target = boundary.pop()\n",
    "            if self.spins[target] != direction: \n",
    "                self.energy-=2\n",
    "                continue\n",
    "            if p<self.wolff_p:\n",
    "                self.spins[*target] = -direction\n",
    "                for point in self.nn(*point(i)).T:\n",
    "                    boundary.append(point)\n",
    "        \n",
    "    \n",
    "    def Metropolis(self,i,p): #single metropolis\n",
    "        \"\"\"Single Metropolis algorithm.\n",
    "        \n",
    "        Parameter\n",
    "        ------------\n",
    "        i : integer(<system size)\n",
    "            i-th spin site (target)\n",
    "        p : float \n",
    "            prepared uniform random variable for fast computing\n",
    "            \n",
    "        \n",
    "        Update single spin.\n",
    "        \"\"\"\n",
    "        #nn_sum = 2*nUp - 4(=nn)\n",
    "        #assert i <= self.size, \"index out of range\"\n",
    "        #logger = self.logger.getChild(\"Metro.Al.\")\n",
    "        #logger.setLevel(logging.INFO)\n",
    "        #logger.debug(\"input  : {}\".format(i))\n",
    "        point = (int(i/self.L), i%self.L)\n",
    "        #logger.debug(\"Point  : {} with L = {}\".format(point, self.L))\n",
    "        spin = self.spins[point]\n",
    "        nUp = int(-(self.spins[self.nn(*point)].sum()-4)/2)\n",
    "        #logger.debug(\"spin   : {}, nearest neighbor = {}, nUp = {}\".format(spin, self.spins[self.nn(*point)],nUp))\n",
    "        #logger.debug(\"Delta E: {}(probability), p = {}\".format(self.metropolis[nUp,int((spin+1)/2)], p))\n",
    "        if p<self.metropolis[nUp,int((spin+1)/2)]:\n",
    "            self.magnetization -= spin*2\n",
    "            self.energy -= 2*(2*nUp-4+self.H)*spin\n",
    "            self.spins[point] *= -1\n",
    "            #logger.debug(\"Fliped.\")\n",
    "            return \n",
    "        #else:\n",
    "            #logger.debug(\"Nope.\")\n",
    "        #return\n",
    "        \n",
    "    def plot(self):\n",
    "        plt.figure(figsize = [4,4])\n",
    "        plt.axis('off')\n",
    "        for i in range(self.L):\n",
    "            for j in range(self.L):\n",
    "                if self.spins[i,j] == 1:\n",
    "                    plt.scatter(i,j,c='blue',s = (np.sqrt(20000)/self.L)**2)\n",
    "                else:\n",
    "                    plt.scatter(i,j,c='red',s = (np.sqrt(20000)/self.L)**2)\n",
    "        \n",
    "    def loc(self):\n",
    "        return vars(self)\n",
    "        \n",
    "    def __del__(self):\n",
    "        del self.logger\n",
    "        "
   ]
  },
  {
   "cell_type": "code",
   "execution_count": 4,
   "metadata": {},
   "outputs": [],
   "source": [
    "class Simulator:\n",
    "    def __init__(self, model, file):\n",
    "        self.model = model\n",
    "        self.file = h5py.File(file)\n",
    "        \n",
    "    def Range(self, **kwarg):#simulation range for static simulation\n",
    "        self.T = [1]\n",
    "        self.H = [0]\n",
    "        for param in kwarg:\n",
    "            if param.lower() == 'h':\n",
    "                self.H = kwarg[param]\n",
    "                #logger.debug(\"H set as : {}\".format(self.H))\n",
    "            elif param.lower() == 't':\n",
    "                self.T = kwarg[param]\n",
    "                #logger.debug(\"T  set as : {}\".format(self.T))\n",
    "    \n",
    "    def calculate(self,algorithm, MCS): #simulate and record calculation at specific coefficient T, H\n",
    "        for h in self.H:\n",
    "            for t in self.T:\n",
    "                param = self.file.require_group('{},{}'.format(t,h))\n",
    "                alg = param.require_group(self.model.algorithm[algorithm].__name__)\n",
    "                saver = alg.require_group('disorder')\n",
    "                self.model.set_parameter(t=t,h=h)\n",
    "                self.model.initialize()\n",
    "                m,ms, e,es,eq = np.empty([5,MCS],dtype = np.float64)\n",
    "                for step in range(MCS):\n",
    "                    target = np.random.randint(0,self.model.size, size = [self.model.size])\n",
    "                    prob = np.random.random([self.model.size])\n",
    "                    for i,p in zip(target, prob):\n",
    "                        self.model.algorithm[algorithm](i,p)\n",
    "                    m[step] = self.model.magnetization\n",
    "                    ms[step] = (self.model.magnetization**2)\n",
    "                    e[step] = self.model.energy\n",
    "                    es[step] = self.model.energy ** 2\n",
    "                    eq[step] = self.model.energy ** 4\n",
    "                saver.create_dataset('m', data = m)\n",
    "                saver.create_dataset('ms', data = ms)\n",
    "                saver.create_dataset('e', data = e)\n",
    "                saver.create_dataset('es', data = es)\n",
    "                saver.create_dataset('eq', data = eq)\n",
    "                \n",
    "                saver = alg.require_group('order')\n",
    "                self.model.set_ordered()\n",
    "                m,ms, e,es,eq = np.empty([5,MCS],dtype = np.float64)\n",
    "                for step in range(MCS):\n",
    "                    target = np.random.randint(0,self.model.size, size = [self.model.size])\n",
    "                    prob = np.random.random([self.model.size])\n",
    "                    for i,p in zip(target, prob):\n",
    "                        self.model.algorithm[algorithm](i,p)\n",
    "                    m[step] = self.model.magnetization\n",
    "                    ms[step] = (self.model.magnetization**2)\n",
    "                    e[step] = self.model.energy\n",
    "                    es[step] = self.model.energy ** 2\n",
    "                    eq[step] = self.model.energy ** 4\n",
    "                saver.create_dataset('m', data = m)\n",
    "                saver.create_dataset('ms', data = ms)\n",
    "                saver.create_dataset('e', data = e)\n",
    "                saver.create_dataset('es', data = es)\n",
    "                saver.create_dataset('eq', data = eq)\n",
    "        \n",
    "    def equilibrate(self, algorithm, T,H = 0, MCS = 100):\n",
    "        self.model.set_parameter(t=T, H=H)\n",
    "        for _ in range(MCS):\n",
    "            target = np.random.randint(0,self.model.size, size = [self.model.size])\n",
    "            prob = np.random.random([self.model.size])\n",
    "            for t,p in zip(target, prob):\n",
    "                self.model.algorithm[algorithm](t,p)\n",
    "                \n",
    "    def plot(self):\n",
    "        plt.imshow(a.spins)\n",
    "        plt.axis(\"off\")\n",
    "    \n",
    "    def dynamic_demo(self, t_range, algorithm, **kwarg):\n",
    "        self.H, self.T, mcs = None, None, 1\n",
    "        keep_demo = False\n",
    "        for param in kwarg:\n",
    "            if param.lower() == 'h':\n",
    "                self.H = kwarg[param]\n",
    "                #logger.debug(\"H set as : {}\".format(self.H))\n",
    "            \n",
    "                #logger.debug(\"T  set as : {}\".format(self.T))\n",
    "            elif param.lower() == 'mcs':\n",
    "                mcs = kwarg[param]\n",
    "            elif param == 'keep_demo':\n",
    "                keep_demo = kwarg[param]\n",
    "                \n",
    "        self.T = t_range\n",
    "        \n",
    "        if self.H is None:\n",
    "            self.H = np.zeros([len(self.T)])\n",
    "            \n",
    "        \n",
    "        #method = vars(self.model)[algorithm]\n",
    "        for t,h in zip(self.T, self.H):\n",
    "            self.model.set_parameter(t=t, h=h)\n",
    "            \n",
    "            for _ in range(mcs):\n",
    "                target = np.random.randint(0,self.model.size, size = [self.model.size])\n",
    "                prob = np.random.random([self.model.size])\n",
    "                for i,p in zip(target,prob):\n",
    "                    self.model.algorithm[algorithm](i, p)\n",
    "                plt.text(0,-1, \"T = {:.3}, H = {:.3}\".format(t,h))\n",
    "                \n",
    "                plt.imshow(self.model.spins,vmin= -1, vmax =1 )\n",
    "                plt.axis(\"off\")\n",
    "                clear_output(wait=True)\n",
    "                plt.pause(0.01)\n",
    "                \n",
    "        if keep_demo:\n",
    "            while True:\n",
    "                target = np.random.randint(0,self.model.size, size = [self.model.size])\n",
    "                prob = np.random.random([self.model.size])\n",
    "                for i,p in zip(target,prob):\n",
    "                    self.model.algorithm[algorithm](i, p)\n",
    "                plt.text(0,-1, \"Keepshowing\")\n",
    "                \n",
    "                plt.imshow(self.model.spins,vmin= -1, vmax =1 )\n",
    "                plt.axis(\"off\")\n",
    "                clear_output(wait=True)\n",
    "                plt.pause(0.01)"
   ]
  },
  {
   "cell_type": "markdown",
   "metadata": {
    "slideshow": {
     "slide_type": "slide"
    }
   },
   "source": [
    "# Exercise of \"Entropy, Order Parameters, and Complexity\" "
   ]
  },
  {
   "cell_type": "raw",
   "metadata": {
    "raw_mimetype": "text/restructuredtext",
    "slideshow": {
     "slide_type": "skip"
    }
   },
   "source": [
    ".. contents:: Content :\n",
    "  :depth: 2\n",
    "  :local:\n"
   ]
  },
  {
   "cell_type": "markdown",
   "metadata": {
    "slideshow": {
     "slide_type": "fragment"
    }
   },
   "source": [
    "## Chap. 8 Computation and Calculation (Monte-Carlo Simulation)"
   ]
  },
  {
   "cell_type": "markdown",
   "metadata": {
    "slideshow": {
     "slide_type": "skip"
    }
   },
   "source": [
    "> In this page, I will give some codes and solution of exercise of chapter 8."
   ]
  },
  {
   "cell_type": "markdown",
   "metadata": {
    "slideshow": {
     "slide_type": "fragment"
    }
   },
   "source": [
    "<br><br><br>\n",
    "<p style=\"text-align: right;\">- Jung Hoon Jung</p>"
   ]
  },
  {
   "cell_type": "markdown",
   "metadata": {
    "slideshow": {
     "slide_type": "slide"
    }
   },
   "source": [
    "## Prologue"
   ]
  },
  {
   "cell_type": "markdown",
   "metadata": {
    "slideshow": {
     "slide_type": "subslide"
    }
   },
   "source": [
    "### Ising model"
   ]
  },
  {
   "cell_type": "markdown",
   "metadata": {
    "slideshow": {
     "slide_type": "fragment"
    }
   },
   "source": [
    "The *Ising model* :  \n",
    "\n",
    "   - the continuous and abrupt phase transitions in the model as temperature and field are varied. \n",
    "\n",
    "*Ising fluctuations and susceptibilities* :  \n",
    "\n",
    "   - the linear response of the model to external ﬁelds, the connection between fluctuations and response, and the energy gap and Curie law at low and high temperatures. "
   ]
  },
  {
   "cell_type": "markdown",
   "metadata": {
    "slideshow": {
     "slide_type": "subslide"
    }
   },
   "source": [
    "### Monte-Carlo algorithms"
   ]
  },
  {
   "cell_type": "markdown",
   "metadata": {
    "slideshow": {
     "slide_type": "fragment"
    }
   },
   "source": [
    "*Coin flips and Markov chains* and *Red and green bacteria* :  \n",
    "\n",
    "- examples of non-equilibrium Markov chains. \n",
    "\n",
    "*Detailed balance* :  \n",
    "\n",
    "- derives a formulation of this basic transition rate relation that does not presume an equilibrium probability distribution. \n",
    "\n",
    "*Metropolis* :  \n",
    "\n",
    "- the most commonly applied Monte Carlo method."
   ]
  },
  {
   "cell_type": "markdown",
   "metadata": {
    "slideshow": {
     "slide_type": "subslide"
    }
   },
   "source": [
    "### Monte-Carlo algorithms (continued)"
   ]
  },
  {
   "cell_type": "markdown",
   "metadata": {
    "slideshow": {
     "slide_type": "fragment"
    }
   },
   "source": [
    "*Implementing Ising* :  \n",
    "\n",
    "- you write your own heat-bath and Metropolis algorithms. \n",
    "\n",
    "*Wolff* and *Implementing Wolff* :  \n",
    "\n",
    "- analysis a powerful and subtle cluster-flip algorithm. "
   ]
  },
  {
   "cell_type": "markdown",
   "metadata": {
    "slideshow": {
     "slide_type": "subslide"
    }
   },
   "source": [
    "### Small systems"
   ]
  },
  {
   "cell_type": "markdown",
   "metadata": {
    "slideshow": {
     "slide_type": "fragment"
    }
   },
   "source": [
    "*Stochastic cells* and *The repressilator* :  \n",
    "\n",
    "- develop Monte Carlo methods (the Gillespie algorithm) for stochastic simulations of chemical reactions in these systems. \n",
    "\n",
    "*Entropy increases! Markov chains* :  \n",
    "\n",
    "- You show that the coarse-grained description of a system with a Markov chain does decrease the free energy with time."
   ]
  },
  {
   "cell_type": "markdown",
   "metadata": {
    "slideshow": {
     "slide_type": "subslide"
    }
   },
   "source": [
    "### And so on"
   ]
  },
  {
   "cell_type": "markdown",
   "metadata": {
    "slideshow": {
     "slide_type": "fragment"
    }
   },
   "source": [
    "*Hysteresis and avalanches* :  \n",
    "\n",
    "- we introduce a nonequilibrium lattice model describing magnets.\n",
    "\n",
    "*Hysteresis algorithms* :  \n",
    "\n",
    "- we explore a modern O(N logN) algorithm for evolving the model. \n",
    "\n",
    "*NP-completeness and satisfiability* :  \n",
    "\n",
    "- we explore the most challenging class of problems in computer science, \n",
    "and find a phase transition at which the truly difficult cases congregate. "
   ]
  },
  {
   "cell_type": "markdown",
   "metadata": {
    "slideshow": {
     "slide_type": "notes"
    }
   },
   "source": [
    "Totally, 15 problem exists."
   ]
  },
  {
   "cell_type": "markdown",
   "metadata": {
    "slideshow": {
     "slide_type": "slide"
    }
   },
   "source": [
    "## Outline\n",
    "\n",
    "Contents :  \n",
    "\n",
    " - Introduction\n",
    " - Model\n",
    " - pseudo code\n",
    " - result"
   ]
  },
  {
   "cell_type": "markdown",
   "metadata": {
    "slideshow": {
     "slide_type": "slide"
    }
   },
   "source": [
    "## Exercise 8.1, 8.2, 8.6, 8.7, 8.8, 8.9 The Ising model"
   ]
  },
  {
   "cell_type": "markdown",
   "metadata": {
    "slideshow": {
     "slide_type": "subslide"
    }
   },
   "source": [
    "### Introduction"
   ]
  },
  {
   "cell_type": "markdown",
   "metadata": {
    "slideshow": {
     "slide_type": "fragment"
    }
   },
   "source": [
    "Goal :  \n",
    "\n",
    "- Making a two-dimensional square-lattice Ising model simulation\n",
    "- Implementing two famous algorithm : Metropolis, Wolff\n",
    "- Analyzing the Ising model based on fluctuation and phase transition"
   ]
  },
  {
   "cell_type": "markdown",
   "metadata": {
    "slideshow": {
     "slide_type": "subslide"
    }
   },
   "source": [
    "In this exercise, we make square-lattice Ising model which is famous practice for Monte-Carlo simulation"
   ]
  },
  {
   "cell_type": "markdown",
   "metadata": {
    "slideshow": {
     "slide_type": "subslide"
    }
   },
   "source": [
    "####  Schematic of Ising model\n",
    "\n",
    "![Ising spins](image/ising.png)"
   ]
  },
  {
   "cell_type": "markdown",
   "metadata": {
    "slideshow": {
     "slide_type": "subslide"
    }
   },
   "source": [
    "### Hamiltonian"
   ]
  },
  {
   "cell_type": "markdown",
   "metadata": {
    "slideshow": {
     "slide_type": "fragment"
    }
   },
   "source": [
    "The Ising model's Hamiltonian is following :\n",
    "\n",
    "$$\\mathcal{H} = -J\\sum_{\\langle i,j\\rangle} S_iS_j - H \\sum_i S_i,$$"
   ]
  },
  {
   "cell_type": "markdown",
   "metadata": {
    "slideshow": {
     "slide_type": "fragment"
    }
   },
   "source": [
    "where $S_i=  \\pm 1$ are 'spins' on a square lattice, and the sum $\\sum_{\\langle i,j \\rangle}$ is over the four nearestneighbor bonds (each pair summed once)."
   ]
  },
  {
   "cell_type": "markdown",
   "metadata": {
    "slideshow": {
     "slide_type": "subslide"
    }
   },
   "source": [
    "### Variables and Setup"
   ]
  },
  {
   "cell_type": "markdown",
   "metadata": {
    "slideshow": {
     "slide_type": "fragment"
    }
   },
   "source": [
    "It is conventional to set the coupling strength $J = 1$ and Boltzmann's constant $k_B = 1$, \n",
    "which amounts to measuring energies and temperatures in units of $J$."
   ]
  },
  {
   "cell_type": "markdown",
   "metadata": {
    "slideshow": {
     "slide_type": "fragment"
    }
   },
   "source": [
    "The constant $H$ is called the external (magnetic) field, and $M=\\sum_i S_i$ is called the magnetization."
   ]
  },
  {
   "cell_type": "markdown",
   "metadata": {
    "slideshow": {
     "slide_type": "subslide"
    }
   },
   "source": [
    "### 8.2 Ising fluctuations and susceptibilities"
   ]
  },
  {
   "cell_type": "markdown",
   "metadata": {
    "slideshow": {
     "slide_type": "fragment"
    }
   },
   "source": [
    "The partition function for the Ising model is $Z = \\sum_n \\exp(-\\beta E_n)$, and the free energy $F=-kT\\log{Z}$."
   ]
  },
  {
   "cell_type": "markdown",
   "metadata": {
    "slideshow": {
     "slide_type": "fragment"
    }
   },
   "source": [
    "(a) \n",
    ">Show that the average of the magnetization $M$ equals $-(\\partial F/\\partial H)|_T$.  \n",
    " Derive the formula for the susceptibility $\\chi_0 = (\\partial M/\\partial H)|_T$ in terms of $\\langle(M-\\langle M\\rangle)^2\\rangle = \\langle M^2\\rangle - \\langle M\\rangle^2$"
   ]
  },
  {
   "cell_type": "markdown",
   "metadata": {
    "slideshow": {
     "slide_type": "subslide"
    }
   },
   "source": [
    "$\n",
    "\\begin{aligned}\n",
    "-\\left. \\frac{\\partial F}{\\partial H}\\right|_T &= -\\left. \\frac{\\partial }{\\partial H}\\left( -kT \\log Z\\right) \\right|_T \\\\\n",
    "&= \\frac{kT}{Z}\\frac{\\partial Z}{\\partial H} \\\\\n",
    "\\end{aligned}\n",
    "$"
   ]
  },
  {
   "cell_type": "markdown",
   "metadata": {
    "slideshow": {
     "slide_type": "fragment"
    }
   },
   "source": [
    "$\n",
    "\\begin{aligned}\n",
    "\\frac{1}{Z}\\frac{\\partial Z}{\\partial H} &= \\frac{1}{Z}\\frac{\\partial}{\\partial H} \\sum_n \\exp(-\\beta \\mathcal{H})\\\\\n",
    "&=\\frac{1}{Z}\\frac{\\partial}{\\partial H} \\sum_n \\exp \\left(-\\beta \\left( -J\\sum_{\\langle i,j\\rangle} S_iS_j - H \\sum_i S_i \\right) \\right) \\\\\n",
    "&=\\frac{1}{Z}\\sum_n \\beta \\left( \\sum_i S_i \\right)\\exp \\left(-\\beta \\left( -J\\sum_{\\langle i,j\\rangle} S_iS_j - H \\sum_i S_i \\right) \\right) = \\frac{1}{kT}\\sum_n  M P(E_n) = \\frac{1}{kT} \\langle M \\rangle\n",
    "\\end{aligned}\n",
    "$"
   ]
  },
  {
   "cell_type": "markdown",
   "metadata": {
    "slideshow": {
     "slide_type": "subslide"
    }
   },
   "source": [
    "Finally,  \n",
    "  \n",
    "  \n",
    "$\n",
    "\\begin{aligned}\n",
    "-\\left. \\frac{\\partial F}{\\partial H}\\right|_T &= -\\left. \\frac{\\partial }{\\partial H}\\left( -kT \\log Z\\right) \\right|_T \\\\\n",
    "&= \\frac{kT}{Z}\\frac{\\partial Z}{\\partial H} = \\sum_n  M P(E_n) = \\langle M \\rangle \\\\\n",
    "\\end{aligned}\n",
    "$  "
   ]
  },
  {
   "cell_type": "markdown",
   "metadata": {
    "slideshow": {
     "slide_type": "fragment"
    }
   },
   "source": [
    "Similarly,  \n",
    "  \n",
    "$\n",
    "\\begin{aligned}\n",
    "\\left. \\frac{\\partial M}{\\partial H}\\right|_T &= -\\left. \\frac{\\partial^2 }{\\partial H^2}\\left( -kT \\log Z\\right) \\right|_T \n",
    "= \\left(\\frac{kTZ'}{Z}\\right)' \\quad \\quad \\left({}' \\equiv \\frac{\\partial }{\\partial H}\\right)\\\\\n",
    "&= kT\\left(\\frac{Z''}{Z}- \\left(\\frac{Z'}{Z}\\right)^2\\right)= \\frac{1}{kT}\\left(\\langle M^2\\rangle - \\langle M\\rangle^2\\right)\\\\\n",
    "\\end{aligned}\n",
    "$  "
   ]
  },
  {
   "cell_type": "markdown",
   "metadata": {
    "slideshow": {
     "slide_type": "subslide"
    }
   },
   "source": [
    "(b)\n",
    "> Check the formula for $C$ and $\\chi$ from part (a) at $H = 0$ and $T = 3$, by measuring the ﬂuctuations and the averages, and then changing by $\\Delta H = 0.02$ or $\\Delta T = 0.1$ and measuring the averages again. Check them also for $T = 2$, where $\\langle M \\rangle \\neq 0$."
   ]
  },
  {
   "cell_type": "markdown",
   "metadata": {
    "slideshow": {
     "slide_type": "fragment"
    }
   },
   "source": [
    "We will see the calculation predict (or not) the result of computation. Let's try another observable.  "
   ]
  },
  {
   "cell_type": "markdown",
   "metadata": {
    "slideshow": {
     "slide_type": "subslide"
    }
   },
   "source": [
    "#### Low-temperature expansion for the magnetization."
   ]
  },
  {
   "cell_type": "markdown",
   "metadata": {
    "slideshow": {
     "slide_type": "fragment"
    }
   },
   "source": [
    "(c)\n",
    "> What is the energy for flipping a spin antiparallel to its neighbors? Equilibrate at a relatively low temperature $T = 1.0$, and measure the magnetization. Notice that the primary excitations are single spin flips. In the low-temperature approximation that the flipped spins are dilute, write a formula for the magnetization."
   ]
  },
  {
   "cell_type": "markdown",
   "metadata": {
    "slideshow": {
     "slide_type": "subslide"
    }
   },
   "source": [
    "When the spin flips to antiparallel to its neighbors, because of low temperature, that spin has to break the 4 bonds.  \n",
    "For convenience, whole spins face to direction of external field $H$ and set as positive ($\\forall S_i = 1$)."
   ]
  },
  {
   "cell_type": "markdown",
   "metadata": {
    "slideshow": {
     "slide_type": "subslide"
    }
   },
   "source": [
    "![lat](image/lat.png)"
   ]
  },
  {
   "cell_type": "markdown",
   "metadata": {
    "slideshow": {
     "slide_type": "fragment"
    }
   },
   "source": [
    "Local energy of $i$-th spin $\\epsilon_i$ is below, \n",
    "$$\\epsilon_i  = -J\\cdot(\\mathrm{number\\,of\\,bond})+ H $$"
   ]
  },
  {
   "cell_type": "markdown",
   "metadata": {
    "slideshow": {
     "slide_type": "subslide"
    }
   },
   "source": [
    "![flip](image/flip.png)"
   ]
  },
  {
   "cell_type": "markdown",
   "metadata": {
    "slideshow": {
     "slide_type": "fragment"
    }
   },
   "source": [
    "If the spin flips, the local energy will be change as follow,\n",
    "$$\\epsilon_i  = J\\cdot(\\mathrm{number\\,of\\,bond})+ H $$"
   ]
  },
  {
   "cell_type": "markdown",
   "metadata": {
    "slideshow": {
     "slide_type": "fragment"
    }
   },
   "source": [
    "So, $\\Delta \\epsilon = 2J\\cdot(\\mathrm{number\\,of\\,bond})+ H$"
   ]
  },
  {
   "cell_type": "markdown",
   "metadata": {
    "slideshow": {
     "slide_type": "subslide"
    }
   },
   "source": [
    "The magnetization is approaximately,\n",
    "$$ M(\\beta) \\approx \\frac{1}{\\mathcal{N}} \\sum_{n_\\downarrow=0}^{N} (N-2n_\\downarrow)g(n_\\downarrow)e^{-\\beta(E_g +\\Delta e \\cdot n_\\downarrow)} \\quad (\\mathcal{N} = \\sum_{n_\\downarrow=0}^N g(n_\\downarrow) e^{-\\beta(E_g+\\Delta e \\cdot n_\\downarrow)}$$"
   ]
  },
  {
   "cell_type": "markdown",
   "metadata": {
    "slideshow": {
     "slide_type": "fragment"
    }
   },
   "source": [
    "$$\\begin{align}\n",
    "M(\\beta) &\\approx \\frac{1}{\\mathcal{N}} \\sum_{n_\\downarrow=0}^{N} N g(n_\\downarrow)e^{-\\beta(E_g +\\Delta e \\cdot n_\\downarrow)}  \n",
    "- \\frac{1}{\\mathcal{N}}\\sum_{n_\\downarrow=0}^{N} 2n_\\downarrow g(n_\\downarrow)e^{-\\beta(E_g +\\Delta e \\cdot n_\\downarrow)} \\\\ \n",
    "&= N - \\frac{1}{\\mathcal{N}}\\sum_{n_\\downarrow=0}^{N} 2n_\\downarrow g(n_\\downarrow)e^{-\\beta(E_g +\\Delta e \\cdot n_\\downarrow)}\n",
    "\\end{align}\n",
    "$$"
   ]
  },
  {
   "cell_type": "markdown",
   "metadata": {
    "slideshow": {
     "slide_type": "subslide"
    }
   },
   "source": [
    "$$\\begin{align}\n",
    "m(\\beta) = \\frac{M(\\beta)}{N} &\\approx 1\n",
    "- \\frac{1}{\\mathcal{N}}\\sum_{n_\\downarrow=0}^{N} 2n_\\downarrow \\frac{g(n_\\downarrow)}{N}e^{-\\beta(E_g +\\Delta e \\cdot n_\\downarrow)} \\\\ \n",
    "&\\sim 1 - \\sum_{n_\\downarrow=0}^{N} 2n_\\downarrow g_1(n_\\downarrow)e^{-\\beta(\\Delta e \\cdot n_\\downarrow)} \\quad (where \\quad \n",
    "g_1(n_\\downarrow) = g(n_\\downarrow)/N )\n",
    "\\end{align}\n",
    "$$"
   ]
  },
  {
   "cell_type": "markdown",
   "metadata": {
    "slideshow": {
     "slide_type": "fragment"
    }
   },
   "source": [
    "$$\\begin{align}\n",
    "m = &1−2x^6 −12x^10 + 14x^12 −90x^14 + 192x^16 −792x^18 + 2148x^20 \\\\\n",
    "&−7716x^22 + 23262x^24 −79512x^26 + 252054x^28 −846628x^30 \\\\\n",
    "&+ 2753520x^32−9205800x^34 + 30371124x^36−101585544x^38+ \\dots \\end{align}$$  \n",
    "(3 Dimensional ising model expansion in text-book) ($x = e^{-2J/k_BT}$)"
   ]
  },
  {
   "cell_type": "markdown",
   "metadata": {
    "slideshow": {
     "slide_type": "subslide"
    }
   },
   "source": [
    "#### High-temperature expansion for the susceptibility.\n",
    "\n"
   ]
  },
  {
   "cell_type": "markdown",
   "metadata": {
    "slideshow": {
     "slide_type": "fragment"
    }
   },
   "source": [
    "At high temperatures, we can ignore the coupling to the neighboring spins."
   ]
  },
  {
   "cell_type": "markdown",
   "metadata": {
    "slideshow": {
     "slide_type": "fragment"
    }
   },
   "source": [
    "(d)\n",
    "> Calculate a formula for the susceptibility of a free spin coupled to an external ﬁeld. Compare it to the susceptibility you measure at high temperature T = 100 for the Ising model."
   ]
  },
  {
   "cell_type": "markdown",
   "metadata": {
    "slideshow": {
     "slide_type": "subslide"
    }
   },
   "source": [
    "The partition function of a free spin coupled to an external field is,  \n",
    "\n",
    "$$Z = (2\\cosh{\\beta H})^N(/N!)$$"
   ]
  },
  {
   "cell_type": "markdown",
   "metadata": {
    "slideshow": {
     "slide_type": "fragment"
    }
   },
   "source": [
    "$$M = \\frac{1}{\\beta}\\frac{\\partial \\ln Z}{\\partial H} = \\tanh \\beta H $$"
   ]
  },
  {
   "cell_type": "markdown",
   "metadata": {
    "slideshow": {
     "slide_type": "fragment"
    }
   },
   "source": [
    "$$\\chi = \\frac{\\partial M}{\\partial H} = (\\tanh \\beta H)' \\approx \\beta H \\propto \\frac{H}{T}$$"
   ]
  },
  {
   "cell_type": "markdown",
   "metadata": {
    "slideshow": {
     "slide_type": "fragment"
    }
   },
   "source": [
    "(Curie's law)"
   ]
  },
  {
   "cell_type": "markdown",
   "metadata": {
    "slideshow": {
     "slide_type": "subslide"
    }
   },
   "source": [
    "### Demo of Metropolis"
   ]
  },
  {
   "cell_type": "code",
   "execution_count": 359,
   "metadata": {
    "scrolled": true
   },
   "outputs": [
    {
     "name": "stderr",
     "output_type": "stream",
     "text": [
      "2019-12-18 12:24:57,407 'ising     ' : [    INFO] system start\n"
     ]
    }
   ],
   "source": [
    "sim = Simulator(IsingModel(80),'test')"
   ]
  },
  {
   "cell_type": "code",
   "execution_count": 360,
   "metadata": {
    "collapsed": true
   },
   "outputs": [
    {
     "ename": "KeyboardInterrupt",
     "evalue": "",
     "output_type": "error",
     "traceback": [
      "\u001b[1;31m---------------------------------------------------------------------------\u001b[0m",
      "\u001b[1;31mKeyboardInterrupt\u001b[0m                         Traceback (most recent call last)",
      "\u001b[1;32m<ipython-input-360-279f7b2005dd>\u001b[0m in \u001b[0;36m<module>\u001b[1;34m\u001b[0m\n\u001b[1;32m----> 1\u001b[1;33m \u001b[0msim\u001b[0m\u001b[1;33m.\u001b[0m\u001b[0mequilibrate\u001b[0m\u001b[1;33m(\u001b[0m\u001b[1;34m'M'\u001b[0m\u001b[1;33m,\u001b[0m \u001b[0mT\u001b[0m \u001b[1;33m=\u001b[0m \u001b[1;36m0\u001b[0m\u001b[1;33m)\u001b[0m\u001b[1;33m\u001b[0m\u001b[1;33m\u001b[0m\u001b[0m\n\u001b[0m",
      "\u001b[1;32m<ipython-input-4-a66b69281fb0>\u001b[0m in \u001b[0;36mequilibrate\u001b[1;34m(self, algorithm, T, H, MCS)\u001b[0m\n\u001b[0;32m     65\u001b[0m             \u001b[0mprob\u001b[0m \u001b[1;33m=\u001b[0m \u001b[0mnp\u001b[0m\u001b[1;33m.\u001b[0m\u001b[0mrandom\u001b[0m\u001b[1;33m.\u001b[0m\u001b[0mrandom\u001b[0m\u001b[1;33m(\u001b[0m\u001b[1;33m[\u001b[0m\u001b[0mself\u001b[0m\u001b[1;33m.\u001b[0m\u001b[0mmodel\u001b[0m\u001b[1;33m.\u001b[0m\u001b[0msize\u001b[0m\u001b[1;33m]\u001b[0m\u001b[1;33m)\u001b[0m\u001b[1;33m\u001b[0m\u001b[1;33m\u001b[0m\u001b[0m\n\u001b[0;32m     66\u001b[0m             \u001b[1;32mfor\u001b[0m \u001b[0mt\u001b[0m\u001b[1;33m,\u001b[0m\u001b[0mp\u001b[0m \u001b[1;32min\u001b[0m \u001b[0mzip\u001b[0m\u001b[1;33m(\u001b[0m\u001b[0mtarget\u001b[0m\u001b[1;33m,\u001b[0m \u001b[0mprob\u001b[0m\u001b[1;33m)\u001b[0m\u001b[1;33m:\u001b[0m\u001b[1;33m\u001b[0m\u001b[1;33m\u001b[0m\u001b[0m\n\u001b[1;32m---> 67\u001b[1;33m                 \u001b[0mself\u001b[0m\u001b[1;33m.\u001b[0m\u001b[0mmodel\u001b[0m\u001b[1;33m.\u001b[0m\u001b[0malgorithm\u001b[0m\u001b[1;33m[\u001b[0m\u001b[0malgorithm\u001b[0m\u001b[1;33m]\u001b[0m\u001b[1;33m(\u001b[0m\u001b[0mt\u001b[0m\u001b[1;33m,\u001b[0m\u001b[0mp\u001b[0m\u001b[1;33m)\u001b[0m\u001b[1;33m\u001b[0m\u001b[1;33m\u001b[0m\u001b[0m\n\u001b[0m\u001b[0;32m     68\u001b[0m \u001b[1;33m\u001b[0m\u001b[0m\n\u001b[0;32m     69\u001b[0m     \u001b[1;32mdef\u001b[0m \u001b[0mplot\u001b[0m\u001b[1;33m(\u001b[0m\u001b[0mself\u001b[0m\u001b[1;33m)\u001b[0m\u001b[1;33m:\u001b[0m\u001b[1;33m\u001b[0m\u001b[1;33m\u001b[0m\u001b[0m\n",
      "\u001b[1;32m<ipython-input-110-8cda67b994ae>\u001b[0m in \u001b[0;36mMetropolis\u001b[1;34m(self, i, p)\u001b[0m\n\u001b[0;32m    155\u001b[0m         \u001b[1;31m#logger.debug(\"Point  : {} with L = {}\".format(point, self.L))\u001b[0m\u001b[1;33m\u001b[0m\u001b[1;33m\u001b[0m\u001b[1;33m\u001b[0m\u001b[0m\n\u001b[0;32m    156\u001b[0m         \u001b[0mspin\u001b[0m \u001b[1;33m=\u001b[0m \u001b[0mself\u001b[0m\u001b[1;33m.\u001b[0m\u001b[0mspins\u001b[0m\u001b[1;33m[\u001b[0m\u001b[0mpoint\u001b[0m\u001b[1;33m]\u001b[0m\u001b[1;33m\u001b[0m\u001b[1;33m\u001b[0m\u001b[0m\n\u001b[1;32m--> 157\u001b[1;33m         \u001b[0mnUp\u001b[0m \u001b[1;33m=\u001b[0m \u001b[0mint\u001b[0m\u001b[1;33m(\u001b[0m\u001b[1;33m-\u001b[0m\u001b[1;33m(\u001b[0m\u001b[0mself\u001b[0m\u001b[1;33m.\u001b[0m\u001b[0mspins\u001b[0m\u001b[1;33m[\u001b[0m\u001b[0mself\u001b[0m\u001b[1;33m.\u001b[0m\u001b[0mnn\u001b[0m\u001b[1;33m(\u001b[0m\u001b[1;33m*\u001b[0m\u001b[0mpoint\u001b[0m\u001b[1;33m)\u001b[0m\u001b[1;33m]\u001b[0m\u001b[1;33m.\u001b[0m\u001b[0msum\u001b[0m\u001b[1;33m(\u001b[0m\u001b[1;33m)\u001b[0m\u001b[1;33m-\u001b[0m\u001b[1;36m4\u001b[0m\u001b[1;33m)\u001b[0m\u001b[1;33m/\u001b[0m\u001b[1;36m2\u001b[0m\u001b[1;33m)\u001b[0m\u001b[1;33m\u001b[0m\u001b[1;33m\u001b[0m\u001b[0m\n\u001b[0m\u001b[0;32m    158\u001b[0m         \u001b[1;31m#logger.debug(\"spin   : {}, nearest neighbor = {}, nUp = {}\".format(spin, self.spins[self.nn(*point)],nUp))\u001b[0m\u001b[1;33m\u001b[0m\u001b[1;33m\u001b[0m\u001b[1;33m\u001b[0m\u001b[0m\n\u001b[0;32m    159\u001b[0m         \u001b[1;31m#logger.debug(\"Delta E: {}(probability), p = {}\".format(self.metropolis[nUp,int((spin+1)/2)], p))\u001b[0m\u001b[1;33m\u001b[0m\u001b[1;33m\u001b[0m\u001b[1;33m\u001b[0m\u001b[0m\n",
      "\u001b[1;31mKeyboardInterrupt\u001b[0m: "
     ]
    }
   ],
   "source": [
    "sim.equilibrate('M', T = 0)"
   ]
  },
  {
   "cell_type": "code",
   "execution_count": 362,
   "metadata": {},
   "outputs": [
    {
     "data": {
      "image/png": "[encoded data removed]",
      "text/plain": [
       "<Figure size 432x288 with 1 Axes>"
      ]
     },
     "metadata": {
      "needs_background": "light"
     },
     "output_type": "display_data"
    }
   ],
   "source": [
    "sim.dynamic_demo([1.],'Metropolis',MCS = 1000)"
   ]
  },
  {
   "cell_type": "markdown",
   "metadata": {
    "slideshow": {
     "slide_type": "slide"
    }
   },
   "source": [
    "## Exercise 8.3, 8.4, 8.12 Markov chain. (coin flip and bacteria growth)"
   ]
  },
  {
   "cell_type": "markdown",
   "metadata": {
    "slideshow": {
     "slide_type": "subslide"
    }
   },
   "source": [
    "### Introduction"
   ]
  },
  {
   "cell_type": "markdown",
   "metadata": {
    "slideshow": {
     "slide_type": "fragment"
    }
   },
   "source": [
    "#### Coin flips"
   ]
  },
  {
   "cell_type": "markdown",
   "metadata": {
    "slideshow": {
     "slide_type": "fragment"
    }
   },
   "source": [
    "(a)  \n",
    "> Treat the  two states of the physicist ('still flipping' and 'done') as states in a Markov chain. The current probability vector then is $\\vec \\rho = \\begin{pmatrix} \\rho_{flipping} \\\\ \\rho_{done} \\end{pmatrix}$. Write the transition matrix $\\mathcal{P}$, giving the time evolution $\\mathcal{P}\\cdot\\vec \\rho_{n} =\\vec \\rho_{n+1}$, assuming that the coin is fair. "
   ]
  },
  {
   "cell_type": "markdown",
   "metadata": {
    "slideshow": {
     "slide_type": "subslide"
    }
   },
   "source": [
    "$$\\rho_{flipping}' = \\frac{1}{2}\\rho_{flipping} \\\\\n",
    "\\rho_{done}'    = \\frac{1}{2}\\rho_{flipping} + \\rho_{done}$$"
   ]
  },
  {
   "cell_type": "markdown",
   "metadata": {
    "slideshow": {
     "slide_type": "fragment"
    }
   },
   "source": [
    "$$\\rho_{flipping}' = \\frac{1}{2}\\rho_{flipping}+0\\cdot\\rho_{done} \\\\\n",
    "\\rho_{done}'    = \\frac{1}{2}\\rho_{flipping} + \\rho_{done}$$"
   ]
  },
  {
   "cell_type": "markdown",
   "metadata": {
    "slideshow": {
     "slide_type": "fragment"
    }
   },
   "source": [
    "$$\\mathcal{P} = \\begin{pmatrix} \\frac{1}{2} & 0 \\\\ \\frac{1}{2} & 1 \\end{pmatrix} $$"
   ]
  },
  {
   "cell_type": "markdown",
   "metadata": {
    "slideshow": {
     "slide_type": "subslide"
    }
   },
   "source": [
    "(b)\n",
    "> Find the eigenvalues and right eigenvectors of $\\mathcal{P}$. Which eigenvector is the steady state $\\rho^*$? Call the other eigenvector $\\widetilde\\rho$. For convenience, normalize $\\widetilde\\rho $ so that its first component equals one. "
   ]
  },
  {
   "cell_type": "markdown",
   "metadata": {
    "slideshow": {
     "slide_type": "fragment"
    }
   },
   "source": [
    "With some insight, one can write down $\\rho^*$ as following,  \n",
    "\n",
    "$$\n",
    "\\rho^* = \\begin{pmatrix} 0 \\\\ 1 \\end{pmatrix} \\rightarrow \\mathcal{P}\\cdot\\rho^* = 1\\cdot\\rho^*\n",
    "$$"
   ]
  },
  {
   "cell_type": "markdown",
   "metadata": {
    "slideshow": {
     "slide_type": "subslide"
    }
   },
   "source": [
    "Now, to get  $\\,\\widetilde\\rho$,\n",
    "$$\\mathcal{P}\\rho^* = \\lambda\\rho^* \\\\ \n",
    "(\\mathcal{P} - \\lambda)\\rho^* = 0$$"
   ]
  },
  {
   "cell_type": "markdown",
   "metadata": {
    "slideshow": {
     "slide_type": "fragment"
    }
   },
   "source": [
    "$$\\begin{vmatrix} \\frac{1}{2}-\\lambda & 0 \\\\ \\frac{1}{2} & 1 -\\lambda\\end{vmatrix} = 0 \\rightarrow \\lambda = \\frac{1}{2}, 1$$"
   ]
  },
  {
   "cell_type": "markdown",
   "metadata": {
    "slideshow": {
     "slide_type": "fragment"
    }
   },
   "source": [
    "$$\\frac{1}{2}\\cdot 1 + 1\\cdot\\widetilde\\rho_1 = \\frac{1}{2}\\widetilde\\rho_1 \\quad (\\,\\because\\widetilde\\rho_0 = 1\\,) \\quad \\rightarrow\\quad\n",
    "\\rho_1 = -1\\\\ \\therefore \\widetilde \\rho =  \\begin{pmatrix} 1 \\\\ -1 \\end{pmatrix}$$"
   ]
  },
  {
   "cell_type": "markdown",
   "metadata": {
    "slideshow": {
     "slide_type": "subslide"
    }
   },
   "source": [
    "(c)\n",
    "> Assume an arbitrary initial state is written $\\rho_0 = A\\rho^* + B\\widetilde\\rho$. What are the conditions on A and B needed to make $\\rho_0$ a valid probability distribution? Write $\\rho_n$ as a function of A, B, $\\rho^*$, and $\\widetilde\\rho $."
   ]
  },
  {
   "cell_type": "markdown",
   "metadata": {
    "slideshow": {
     "slide_type": "fragment"
    }
   },
   "source": [
    "The component of $\\rho_0$ must be in $[0,1]$,  \n",
    "\n",
    "$$0\\leq \\rho_i \\leq 1 \\rightarrow 0\\leq B\\leq A \\leq 1$$"
   ]
  },
  {
   "cell_type": "markdown",
   "metadata": {
    "slideshow": {
     "slide_type": "fragment"
    }
   },
   "source": [
    "\n",
    "$$\\rho_0 = A\\rho^* + B\\widetilde\\rho \\\\\n",
    "\\rho_n=\\mathcal{P}^n\\rho_0 = \\mathcal{P}^n(A\\rho^* + B\\widetilde\\rho) = A\\rho^* + B\\left(\\frac{1}{2}\\right)^n\\widetilde\\rho\n",
    "$$"
   ]
  },
  {
   "cell_type": "markdown",
   "metadata": {
    "slideshow": {
     "slide_type": "subslide"
    }
   },
   "source": [
    "#### Red and green bacteria\n",
    "\n",
    "A growth medium at time $t = 0$ has 500 red bacteria and 500 green bacteria. Each hour, each bacterium divides in two. A color-blind predator eats exactly 1000 bacteria per hour"
   ]
  },
  {
   "cell_type": "markdown",
   "metadata": {
    "slideshow": {
     "slide_type": "fragment"
    }
   },
   "source": [
    "(a)\n",
    ">After a very long time, what is the probability distribution for the number $\\alpha$ of red bacteria in the growth medium?"
   ]
  },
  {
   "cell_type": "markdown",
   "metadata": {
    "slideshow": {
     "slide_type": "subslide"
    }
   },
   "source": [
    "Set one of bacterium divides in two, A color-blind predator eats only 1 bacteria repeat a thousand times per hour, let Number of red-bacteria as $\\alpha$,"
   ]
  },
  {
   "cell_type": "markdown",
   "metadata": {
    "slideshow": {
     "slide_type": "fragment"
    }
   },
   "source": [
    "| Divide\\Eat          | $\\alpha$                              | $N - \\alpha$                               |\n",
    "|--------------|---------------------------------------|--------------------------------------------|\n",
    "| $\\alpha$     | $\\frac{\\alpha}{N}\\frac{\\alpha+1}{N+1}$| $\\frac{\\alpha}{N}\\frac{N-\\alpha}{N+1}$     |\n",
    "| $N - \\alpha$ | $\\frac{N-\\alpha}{N}\\frac{\\alpha}{N+1}$| $\\frac{N-\\alpha}{N}\\frac{N+1 - \\alpha}{N+1}$ |"
   ]
  },
  {
   "cell_type": "markdown",
   "metadata": {
    "slideshow": {
     "slide_type": "fragment"
    }
   },
   "source": [
    "$$\\alpha \\rightarrow \\alpha +1 : (\\alpha, N - \\alpha) = \\frac{\\alpha}{N}\\frac{N-\\alpha}{N+1} \\\\\n",
    "\\alpha \\rightarrow \\alpha  : (\\alpha, \\alpha) + (N - \\alpha, N - \\alpha) = \\frac{\\alpha}{N}\\frac{\\alpha+1}{N+1} + \\frac{N+1-\\alpha}{N}\\frac{N - \\alpha}{N+1} \\\\\n",
    "\\alpha \\rightarrow \\alpha -1 : (N-\\alpha, \\alpha) = \\frac{N-\\alpha}{N}\\frac{\\alpha}{N+1}\n",
    "$$"
   ]
  },
  {
   "cell_type": "code",
   "execution_count": 376,
   "metadata": {
    "slideshow": {
     "slide_type": "subslide"
    }
   },
   "outputs": [
    {
     "data": {
      "text/plain": [
       "<matplotlib.legend.Legend at 0x1d38335a908>"
      ]
     },
     "execution_count": 376,
     "metadata": {},
     "output_type": "execute_result"
    },
    {
     "data": {
      "image/png": "[encoded data removed]",
      "text/plain": [
       "<Figure size 576x432 with 1 Axes>"
      ]
     },
     "metadata": {
      "needs_background": "light"
     },
     "output_type": "display_data"
    }
   ],
   "source": [
    "plt.figure(figsize =[8,6])\n",
    "alpha =np.arange(0,1000)\n",
    "plt.plot(alpha,((alpha+1)*alpha+(1000+1-alpha)*(1000-alpha))/(1000*1001), label = r'$\\alpha \\rightarrow \\alpha$')\n",
    "plt.plot(alpha, (-alpha**2+1000*alpha)/1000/1001, label = r'$\\alpha \\rightarrow \\alpha \\pm 1$')\n",
    "plt.title(\"Probability distribution\")\n",
    "plt.legend()"
   ]
  },
  {
   "cell_type": "markdown",
   "metadata": {
    "slideshow": {
     "slide_type": "subslide"
    }
   },
   "source": [
    "(b)\n",
    "> Roughly how long will it take to reach this final state?"
   ]
  },
  {
   "cell_type": "markdown",
   "metadata": {
    "slideshow": {
     "slide_type": "fragment"
    }
   },
   "source": [
    "When $\\alpha = \\frac{1}{2}N$, \n",
    "\n",
    "| Probability    | $\\alpha-1$    | $\\alpha$      | $\\alpha+1$    |\n",
    "|----------------|---------------|---------------|---------------|\n",
    "| $\\alpha(=1/2)$ | 1 / 4 | 1 / 2 | 1 / 4 |\n",
    "| $\\alpha(=0)$   | 0             | 1             | 0             |"
   ]
  },
  {
   "cell_type": "markdown",
   "metadata": {
    "slideshow": {
     "slide_type": "subslide"
    }
   },
   "source": [
    "(c)\n",
    "> Assume that the predator has a 1% preference for green bacteria (implemented as you choose). Roughly how much will this change the final distribution?"
   ]
  },
  {
   "cell_type": "markdown",
   "metadata": {
    "slideshow": {
     "slide_type": "slide"
    }
   },
   "source": [
    "## Exercise 8.3, 8.4, 8.12 Detailed balance."
   ]
  },
  {
   "cell_type": "markdown",
   "metadata": {
    "slideshow": {
     "slide_type": "fragment"
    }
   },
   "source": [
    "In an equilibrium system, for any two states $\\alpha$ and $\\beta$ with equilibrium probabilities $\\rho^*_\\alpha$ and $\\rho^*_\\beta$, detailed balance states that  \n",
    "\n",
    "$$P_{\\beta\\leftarrow\\alpha}\\rho^*_\\alpha = P_{\\alpha\\leftarrow\\beta}\\rho^*_\\beta $$  \n",
    "\n",
    "that is, the equilibrium flux of probability from $\\alpha$ to $\\beta$ is the same as the flux backward from $\\beta$ to $\\alpha$. It is both possible and elegant to reformulate the condition for detailed balance so that it does not involve the equilibrium probabilities. Consider three states of the system, $\\alpha$, $\\beta$, and $\\gamma$. "
   ]
  },
  {
   "cell_type": "markdown",
   "metadata": {
    "slideshow": {
     "slide_type": "subslide"
    }
   },
   "source": [
    "(a)\n",
    "> Assume that each of the three types of transitions among the three states satisfies detailed balance. Eliminate the equilibrium probability densities to derive\n",
    "$$P_{\\alpha\\leftarrow\\beta}P_{\\beta\\leftarrow\\gamma}P_{\\gamma\\leftarrow\\alpha} = P_{\\alpha\\leftarrow\\gamma}P_{\\gamma\\leftarrow\\beta}P_{\\beta\\leftarrow\\alpha}$$\n"
   ]
  },
  {
   "cell_type": "markdown",
   "metadata": {
    "slideshow": {
     "slide_type": "fragment"
    }
   },
   "source": [
    "With equilibrium probabilities $\\rho^*_\\alpha$, given equation is,\n",
    "\n",
    "$$P_{\\alpha\\leftarrow\\beta}P_{\\beta\\leftarrow\\gamma}P_{\\gamma\\leftarrow\\alpha} \\rho^*_\\alpha= P_{\\alpha\\leftarrow\\gamma}P_{\\gamma\\leftarrow\\beta}P_{\\beta\\leftarrow\\alpha}\\rho^*_\\alpha$$"
   ]
  },
  {
   "cell_type": "markdown",
   "metadata": {
    "slideshow": {
     "slide_type": "subslide"
    }
   },
   "source": [
    "For left hand side, \n",
    "\n",
    "$$\\begin{align}\n",
    "P_{\\alpha\\leftarrow\\beta}P_{\\beta\\leftarrow\\gamma}P_{\\gamma\\leftarrow\\alpha} \\rho^*_\\alpha &= P_{\\alpha\\leftarrow\\beta}P_{\\beta\\leftarrow\\gamma}\\left(P_{\\alpha\\leftarrow\\gamma} \\rho^*_\\gamma \\right) &= P_{\\alpha\\leftarrow\\beta}P_{\\alpha\\leftarrow\\gamma}\\left( P_{\\beta\\leftarrow\\gamma} \\rho^*_\\gamma \\right) \\\\\n",
    "&= P_{\\alpha\\leftarrow\\beta}P_{\\alpha\\leftarrow\\gamma}\\left( P_{\\gamma\\leftarrow\\beta} \\rho^*_\\beta \\right) &= P_{\\alpha\\leftarrow\\gamma}P_{\\gamma\\leftarrow\\beta}\\left( P_{\\alpha\\leftarrow\\beta} \\rho^*_\\beta \\right) \\\\\n",
    "&= P_{\\alpha\\leftarrow\\gamma}P_{\\gamma\\leftarrow\\beta} P_{\\beta\\leftarrow\\alpha} \\rho^*_\\alpha \n",
    "\\end{align}\n",
    "$$"
   ]
  },
  {
   "cell_type": "markdown",
   "metadata": {
    "slideshow": {
     "slide_type": "fragment"
    }
   },
   "source": [
    "$$\\left( P_{\\alpha\\leftarrow\\beta}P_{\\beta\\leftarrow\\gamma}P_{\\gamma\\leftarrow\\alpha} - P_{\\alpha\\leftarrow\\gamma}P_{\\gamma\\leftarrow\\beta} P_{\\beta\\leftarrow\\alpha}\\right) \\rho^*_\\alpha  = 0$$"
   ]
  },
  {
   "cell_type": "markdown",
   "metadata": {
    "slideshow": {
     "slide_type": "fragment"
    }
   },
   "source": [
    "$$\\rho^*_\\alpha  \\neq 0, \\quad \\rightarrow \\quad P_{\\alpha\\leftarrow\\beta}P_{\\beta\\leftarrow\\gamma}P_{\\gamma\\leftarrow\\alpha} = P_{\\alpha\\leftarrow\\gamma}P_{\\gamma\\leftarrow\\beta}P_{\\beta\\leftarrow\\alpha}$$"
   ]
  },
  {
   "cell_type": "markdown",
   "metadata": {
    "slideshow": {
     "slide_type": "notes"
    }
   },
   "source": [
    "It is possible to show conversely that if every triple of states in a Markov chain satisﬁes the condition 8.22 then it satisﬁes detailed balance (that there is at least one probability density ρ∗ which makes the probability ﬂuxes between all pairs of states equal), except for complications arising when some of the rates are zero. "
   ]
  },
  {
   "cell_type": "markdown",
   "metadata": {
    "slideshow": {
     "slide_type": "slide"
    }
   },
   "source": [
    "# Q & A"
   ]
  },
  {
   "cell_type": "code",
   "execution_count": 118,
   "metadata": {
    "slideshow": {
     "slide_type": "slide"
    }
   },
   "outputs": [],
   "source": [
    "files = [h5py.File('../../../../ising/test_{}.hdf5'.format(i+1))for i in range(11)]"
   ]
  },
  {
   "cell_type": "code",
   "execution_count": 185,
   "metadata": {},
   "outputs": [],
   "source": [
    "zeros = [h5py.File('../../../../ising/test_{}.hdf5'.format(16*2**(i)))for i in range(3)]"
   ]
  },
  {
   "cell_type": "code",
   "execution_count": 178,
   "metadata": {},
   "outputs": [],
   "source": [
    "T,H = [],[]\n",
    "dm, dms, de, des, deq = {},{},{},{},{}\n",
    "om, oms, oe, oes, oeq = {},{},{},{},{}\n",
    "for key in zeros[0]['16']:\n",
    "    t,h = key.split(\",\")\n",
    "    t,h = np.array([t,h], np.float64)\n",
    "    T.append(t)\n",
    "    H.append(h)\n",
    "    dm[t] = zeros[0]['16'][key]['Metropolis/disorder']['m'][:]\n",
    "    dms[t] = zeros[0]['16'][key]['Metropolis/disorder']['ms'][:]\n",
    "    de[t] = zeros[0]['16'][key]['Metropolis/disorder']['e'][:]\n",
    "    des[t] = zeros[0]['16'][key]['Metropolis/disorder']['es'][:]\n",
    "    deq[t] = zeros[0]['16'][key]['Metropolis/disorder']['eq'][:]\n",
    "    om[t] = zeros[0]['16'][key]['Metropolis/order']['m'][:]\n",
    "    oms[t] = zeros[0]['16'][key]['Metropolis/order']['ms'][:]\n",
    "    oe[t] = zeros[0]['16'][key]['Metropolis/order']['e'][:]\n",
    "    oes[t] = zeros[0]['16'][key]['Metropolis/order']['es'][:]\n",
    "    oeq[t] = zeros[0]['16'][key]['Metropolis/order']['eq'][:]\n",
    "    "
   ]
  },
  {
   "cell_type": "code",
   "execution_count": 179,
   "metadata": {},
   "outputs": [],
   "source": [
    "for file in files:\n",
    "    for key in file['16']:\n",
    "        t,h = key.split(\",\")\n",
    "        t,h = np.array([t,h], np.float64)\n",
    "        T.append(t)\n",
    "        H.append(h)\n",
    "        dm[t] = file['16'][key]['Metropolis/disorder']['m'][:]\n",
    "        dms[t] = file['16'][key]['Metropolis/disorder']['ms'][:]\n",
    "        de[t] = file['16'][key]['Metropolis/disorder']['e'][:]\n",
    "        des[t] = file['16'][key]['Metropolis/disorder']['es'][:]\n",
    "        deq[t] = file['16'][key]['Metropolis/disorder']['eq'][:]\n",
    "        om[t] = file['16'][key]['Metropolis/order']['m'][:]\n",
    "        oms[t] = file['16'][key]['Metropolis/order']['ms'][:]\n",
    "        oe[t] = file['16'][key]['Metropolis/order']['e'][:]\n",
    "        oes[t] = file['16'][key]['Metropolis/order']['es'][:]\n",
    "        oeq[t] = file['16'][key]['Metropolis/order']['eq'][:]\n"
   ]
  },
  {
   "cell_type": "code",
   "execution_count": 215,
   "metadata": {},
   "outputs": [],
   "source": [
    "T,H = [],[]\n",
    "dm, dms, de, des, deq = {},{},{},{},{}\n",
    "om, oms, oe, oes, oeq = {},{},{},{},{}\n",
    "for key in zeros[1]['32']:\n",
    "    t,h = key.split(\",\")\n",
    "    t,h = np.array([t,h], np.float64)\n",
    "    T.append(t)\n",
    "    H.append(h)\n",
    "    dm[t] = zeros[1]['32'][key]['Metropolis/disorder']['m'][:]\n",
    "    dms[t] = zeros[1]['32'][key]['Metropolis/disorder']['ms'][:]\n",
    "    de[t] = zeros[1]['32'][key]['Metropolis/disorder']['e'][:]\n",
    "    des[t] = zeros[1]['32'][key]['Metropolis/disorder']['es'][:]\n",
    "    deq[t] = zeros[1]['32'][key]['Metropolis/disorder']['eq'][:]\n",
    "    om[t] = zeros[1]['32'][key]['Metropolis/order']['m'][:]\n",
    "    oms[t] = zeros[1]['32'][key]['Metropolis/order']['ms'][:]\n",
    "    oe[t] = zeros[1]['32'][key]['Metropolis/order']['e'][:]\n",
    "    oes[t] = zeros[1]['32'][key]['Metropolis/order']['es'][:]\n",
    "    oeq[t] = zeros[1]['32'][key]['Metropolis/order']['eq'][:]\n",
    "    "
   ]
  },
  {
   "cell_type": "code",
   "execution_count": 216,
   "metadata": {},
   "outputs": [],
   "source": [
    "for file in files:\n",
    "    for key in file['32']:\n",
    "        t,h = key.split(\",\")\n",
    "        t,h = np.array([t,h], np.float64)\n",
    "        T.append(t)\n",
    "        H.append(h)\n",
    "        dm[t] = file['32'][key]['Metropolis/disorder']['m'][:]\n",
    "        dms[t] = file['32'][key]['Metropolis/disorder']['ms'][:]\n",
    "        de[t] = file['32'][key]['Metropolis/disorder']['e'][:]\n",
    "        des[t] = file['32'][key]['Metropolis/disorder']['es'][:]\n",
    "        deq[t] = file['32'][key]['Metropolis/disorder']['eq'][:]\n",
    "        om[t] = file['32'][key]['Metropolis/order']['m'][:]\n",
    "        oms[t] = file['32'][key]['Metropolis/order']['ms'][:]\n",
    "        oe[t] = file['32'][key]['Metropolis/order']['e'][:]\n",
    "        oes[t] = file['32'][key]['Metropolis/order']['es'][:]\n",
    "        oeq[t] = file['32'][key]['Metropolis/order']['eq'][:]\n"
   ]
  },
  {
   "cell_type": "code",
   "execution_count": 186,
   "metadata": {},
   "outputs": [],
   "source": [
    "T,H = [],[]\n",
    "dm, dms, de, des, deq = {},{},{},{},{}\n",
    "om, oms, oe, oes, oeq = {},{},{},{},{}\n",
    "for key in zeros[2]['64']:\n",
    "    t,h = key.split(\",\")\n",
    "    t,h = np.array([t,h], np.float64)\n",
    "    T.append(t)\n",
    "    H.append(h)\n",
    "    dm[t] = zeros[2]['64'][key]['Metropolis/disorder']['m'][:]\n",
    "    dms[t] = zeros[2]['64'][key]['Metropolis/disorder']['ms'][:]\n",
    "    de[t] = zeros[2]['64'][key]['Metropolis/disorder']['e'][:]\n",
    "    des[t] = zeros[2]['64'][key]['Metropolis/disorder']['es'][:]\n",
    "    deq[t] = zeros[2]['64'][key]['Metropolis/disorder']['eq'][:]\n",
    "    om[t] = zeros[2]['64'][key]['Metropolis/order']['m'][:]\n",
    "    oms[t] = zeros[2]['64'][key]['Metropolis/order']['ms'][:]\n",
    "    oe[t] = zeros[2]['64'][key]['Metropolis/order']['e'][:]\n",
    "    oes[t] = zeros[2]['64'][key]['Metropolis/order']['es'][:]\n",
    "    oeq[t] = zeros[2]['64'][key]['Metropolis/order']['eq'][:]\n",
    "    "
   ]
  },
  {
   "cell_type": "code",
   "execution_count": 187,
   "metadata": {},
   "outputs": [],
   "source": [
    "for file in files:\n",
    "    for key in file['64']:\n",
    "        t,h = key.split(\",\")\n",
    "        t,h = np.array([t,h], np.float64)\n",
    "        T.append(t)\n",
    "        H.append(h)\n",
    "        dm[t] = file['64'][key]['Metropolis/disorder']['m'][:]\n",
    "        dms[t] = file['64'][key]['Metropolis/disorder']['ms'][:]\n",
    "        de[t] = file['64'][key]['Metropolis/disorder']['e'][:]\n",
    "        des[t] = file['64'][key]['Metropolis/disorder']['es'][:]\n",
    "        deq[t] = file['64'][key]['Metropolis/disorder']['eq'][:]\n",
    "        om[t] = file['64'][key]['Metropolis/order']['m'][:]\n",
    "        oms[t] = file['64'][key]['Metropolis/order']['ms'][:]\n",
    "        oe[t] = file['64'][key]['Metropolis/order']['e'][:]\n",
    "        oes[t] = file['64'][key]['Metropolis/order']['es'][:]\n",
    "        oeq[t] = file['64'][key]['Metropolis/order']['eq'][:]\n"
   ]
  },
  {
   "cell_type": "code",
   "execution_count": 180,
   "metadata": {},
   "outputs": [],
   "source": [
    "dm16 = [dm[t] for t in T ]\n",
    "om16 = [om[t] for t in T ]\n",
    "\n",
    "dms16 = [dms[t] for t in T ]\n",
    "oms16 = [oms[t] for t in T ]\n",
    "des16 = [des[t] for t in T ]\n",
    "oes16 = [oes[t] for t in T ]\n",
    "deq16 = [deq[t] for t in T ]\n",
    "oeq16 = [oeq[t] for t in T ]\n",
    "de16 = [de[t] for t in T ]\n",
    "oe16 = [oe[t] for t in T ]"
   ]
  },
  {
   "cell_type": "code",
   "execution_count": 217,
   "metadata": {},
   "outputs": [],
   "source": [
    "dm32 = [dm[t] for t in T ]\n",
    "om32 = [om[t] for t in T ]\n",
    "\n",
    "dms32 = [dms[t] for t in T ]\n",
    "oms32 = [oms[t] for t in T ]\n",
    "des32 = [des[t] for t in T ]\n",
    "oes32 = [oes[t] for t in T ]\n",
    "deq32 = [deq[t] for t in T ]\n",
    "oeq32 = [oeq[t] for t in T ]\n",
    "de32 = [de[t] for t in T ]\n",
    "oe32 = [oe[t] for t in T ]"
   ]
  },
  {
   "cell_type": "code",
   "execution_count": 188,
   "metadata": {},
   "outputs": [],
   "source": [
    "dm64 = [dm[t] for t in T ]\n",
    "om64 = [om[t] for t in T ]\n",
    "\n",
    "dms64 = [dms[t] for t in T ]\n",
    "oms64 = [oms[t] for t in T ]\n",
    "des64 = [des[t] for t in T ]\n",
    "oes64 = [oes[t] for t in T ]\n",
    "deq64 = [deq[t] for t in T ]\n",
    "oeq64 = [oeq[t] for t in T ]\n",
    "de64 = [de[t] for t in T ]\n",
    "oe64 = [oe[t] for t in T ]"
   ]
  },
  {
   "cell_type": "code",
   "execution_count": 247,
   "metadata": {},
   "outputs": [
    {
     "name": "stdout",
     "output_type": "stream",
     "text": [
      "1.8000000000000007\n"
     ]
    },
    {
     "data": {
      "text/plain": [
       "[<matplotlib.lines.Line2D at 0x1d3f3da7f08>]"
      ]
     },
     "execution_count": 247,
     "metadata": {},
     "output_type": "execute_result"
    },
    {
     "data": {
      "image/png": "[encoded data removed]",
      "text/plain": [
       "<Figure size 432x288 with 1 Axes>"
      ]
     },
     "metadata": {
      "needs_background": "light"
     },
     "output_type": "display_data"
    }
   ],
   "source": [
    "ind = 8\n",
    "print(T[ind])\n",
    "plt.plot(dm64[ind])\n",
    "plt.plot(om64[ind])"
   ]
  },
  {
   "cell_type": "code",
   "execution_count": 232,
   "metadata": {},
   "outputs": [
    {
     "name": "stdout",
     "output_type": "stream",
     "text": [
      "1.9000000000000008\n"
     ]
    },
    {
     "data": {
      "text/plain": [
       "[<matplotlib.lines.Line2D at 0x1d3f2878fc8>]"
      ]
     },
     "execution_count": 232,
     "metadata": {},
     "output_type": "execute_result"
    },
    {
     "data": {
      "image/png": "[encoded data removed]",
      "text/plain": [
       "<Figure size 432x288 with 1 Axes>"
      ]
     },
     "metadata": {
      "needs_background": "light"
     },
     "output_type": "display_data"
    }
   ],
   "source": [
    "ind = 9\n",
    "print(T[ind])\n",
    "plt.plot(dm32[ind])\n",
    "plt.plot(om32[ind])"
   ]
  },
  {
   "cell_type": "code",
   "execution_count": 238,
   "metadata": {},
   "outputs": [
    {
     "data": {
      "text/plain": [
       "[<matplotlib.lines.Line2D at 0x1d3f2b1dd88>]"
      ]
     },
     "execution_count": 238,
     "metadata": {},
     "output_type": "execute_result"
    },
    {
     "data": {
      "image/png": "[encoded data removed]",
      "text/plain": [
       "<Figure size 432x288 with 1 Axes>"
      ]
     },
     "metadata": {
      "needs_background": "light"
     },
     "output_type": "display_data"
    }
   ],
   "source": [
    "plt.plot(T, [abs(np.average(m[9000:])) for m in dm64])"
   ]
  },
  {
   "cell_type": "code",
   "execution_count": 295,
   "metadata": {},
   "outputs": [],
   "source": [
    "t = T-2.26918531421"
   ]
  },
  {
   "cell_type": "code",
   "execution_count": 291,
   "metadata": {},
   "outputs": [
    {
     "data": {
      "text/plain": [
       "[<matplotlib.lines.Line2D at 0x1d3f6fe7b48>]"
      ]
     },
     "execution_count": 291,
     "metadata": {},
     "output_type": "execute_result"
    },
    {
     "data": {
      "image/png": "[encoded data removed]",
      "text/plain": [
       "<Figure size 432x288 with 1 Axes>"
      ]
     },
     "metadata": {
      "needs_background": "light"
     },
     "output_type": "display_data"
    }
   ],
   "source": [
    "plt.loglog(abs(t)*16, [abs(np.average(m[:1000]))/16/16*np.power(16,1/8) for m in om16],'x-',alpha = 0.5)\n",
    "plt.loglog(abs(t)*32, [abs(np.average(m[:1000]))/32/32*np.power(16,1/8) for m in om32],'x-',alpha = 0.5)\n",
    "plt.loglog(abs(t)*64, [abs(np.average(m[:1000]))/64/64*np.power(16,1/8) for m in om64],'x-',alpha = 0.5)\n",
    "#plt.xlim([1.5,3.5])"
   ]
  },
  {
   "cell_type": "code",
   "execution_count": 166,
   "metadata": {},
   "outputs": [
    {
     "data": {
      "text/plain": [
       "(1.5, 3.5)"
      ]
     },
     "execution_count": 166,
     "metadata": {},
     "output_type": "execute_result"
    },
    {
     "data": {
      "image/png": "[encoded data removed]",
      "text/plain": [
       "<Figure size 432x288 with 1 Axes>"
      ]
     },
     "metadata": {
      "needs_background": "light"
     },
     "output_type": "display_data"
    }
   ],
   "source": [
    "plt.plot(T, [abs(np.average(m[:3000])) for m in om], 'x')\n",
    "plt.xlim([1.5,3.5])"
   ]
  },
  {
   "cell_type": "code",
   "execution_count": 121,
   "metadata": {},
   "outputs": [
    {
     "name": "stdout",
     "output_type": "stream",
     "text": [
      "16\n"
     ]
    }
   ],
   "source": [
    "for i in zeros[0]:\n",
    "    print(i)"
   ]
  },
  {
   "cell_type": "code",
   "execution_count": 60,
   "metadata": {},
   "outputs": [],
   "source": [
    "T, H = [],[]\n",
    "dm, dms, de, des, deq = [],[],[],[],[]\n",
    "om, oms, oe, oes, oeq = [],[],[],[],[]\n",
    "for key in sim.file:\n",
    "    t,h = key.split(\",\")\n",
    "    t,h = np.array([t,h], np.float64)\n",
    "    T.append(t)\n",
    "    H.append(h)\n",
    "    dm.append(sim.file[key]['Metropolis/disorder']['m'][:])\n",
    "    dms.append(sim.file[key]['Metropolis/disorder']['ms'][:])\n",
    "    de.append(sim.file[key]['Metropolis/disorder']['e'][:])\n",
    "    des.append(sim.file[key]['Metropolis/disorder']['es'][:])\n",
    "    deq.append(sim.file[key]['Metropolis/disorder']['eq'][:])\n",
    "    om.append(sim.file[key]['Metropolis/order']['m'][:])\n",
    "    oms.append(sim.file[key]['Metropolis/order']['ms'][:])\n",
    "    oe.append(sim.file[key]['Metropolis/order']['e'][:])\n",
    "    oes.append(sim.file[key]['Metropolis/order']['es'][:])\n",
    "    oeq.append(sim.file[key]['Metropolis/order']['eq'][:])\n",
    "    "
   ]
  },
  {
   "cell_type": "code",
   "execution_count": 24,
   "metadata": {},
   "outputs": [
    {
     "data": {
      "text/plain": [
       "0.533"
      ]
     },
     "execution_count": 24,
     "metadata": {},
     "output_type": "execute_result"
    }
   ],
   "source": [
    "np.average(m)"
   ]
  },
  {
   "cell_type": "code",
   "execution_count": 177,
   "metadata": {},
   "outputs": [
    {
     "name": "stdout",
     "output_type": "stream",
     "text": [
      "2.0799999999999983\n"
     ]
    },
    {
     "data": {
      "text/plain": [
       "[<matplotlib.lines.Line2D at 0x1d3d249dc88>]"
      ]
     },
     "execution_count": 177,
     "metadata": {},
     "output_type": "execute_result"
    },
    {
     "data": {
      "image/png": "[encoded data removed]",
      "text/plain": [
       "<Figure size 432x288 with 1 Axes>"
      ]
     },
     "metadata": {
      "needs_background": "light"
     },
     "output_type": "display_data"
    }
   ],
   "source": [
    "ind = 18\n",
    "print(T[ind])\n",
    "plt.plot(dm[ind])\n",
    "plt.plot(om[ind])"
   ]
  },
  {
   "cell_type": "code",
   "execution_count": 64,
   "metadata": {},
   "outputs": [
    {
     "data": {
      "text/plain": [
       "[<matplotlib.lines.Line2D at 0x1d3ca07ddc8>]"
      ]
     },
     "execution_count": 64,
     "metadata": {},
     "output_type": "execute_result"
    },
    {
     "data": {
      "image/png": "[encoded data removed]",
      "text/plain": [
       "<Figure size 432x288 with 1 Axes>"
      ]
     },
     "metadata": {
      "needs_background": "light"
     },
     "output_type": "display_data"
    }
   ],
   "source": [
    "plt.plot(T, [abs(np.average(m)) for m in dm])"
   ]
  },
  {
   "cell_type": "code",
   "execution_count": 71,
   "metadata": {},
   "outputs": [
    {
     "data": {
      "text/plain": [
       "[<matplotlib.lines.Line2D at 0x1d3cc5cb288>]"
      ]
     },
     "execution_count": 71,
     "metadata": {},
     "output_type": "execute_result"
    },
    {
     "data": {
      "image/png": "[encoded data removed]",
      "text/plain": [
       "<Figure size 432x288 with 1 Axes>"
      ]
     },
     "metadata": {
      "needs_background": "light"
     },
     "output_type": "display_data"
    }
   ],
   "source": [
    "plt.plot(T, [abs(np.average(m[500:])) for m in om],'x')"
   ]
  },
  {
   "cell_type": "code",
   "execution_count": 268,
   "metadata": {},
   "outputs": [
    {
     "data": {
      "text/plain": [
       "(2, 3)"
      ]
     },
     "execution_count": 268,
     "metadata": {},
     "output_type": "execute_result"
    },
    {
     "data": {
      "image/png": "[encoded data removed]",
      "text/plain": [
       "<Figure size 432x288 with 1 Axes>"
      ]
     },
     "metadata": {
      "needs_background": "light"
     },
     "output_type": "display_data"
    }
   ],
   "source": [
    "plt.plot(T, [(np.average(ms[2000:]) - np.average(m[2000:])**2)/t/16/16 for m,ms,t in zip(om16,oms16,T)],'x')\n",
    "plt.plot(T, [(np.average(ms[2000:]) - np.average(m[2000:])**2)/t/32/32 for m,ms,t in zip(dm32,dms32,T)],'x')\n",
    "plt.plot(T, [(np.average(ms[4000:]) - np.average(m[4000:])**2)/t/64/64 for m,ms,t in zip(dm64,dms64,T)],'x')\n",
    "plt.axvline(x=2.26,c='red')\n",
    "plt.xlim([2,3])"
   ]
  },
  {
   "cell_type": "code",
   "execution_count": 73,
   "metadata": {},
   "outputs": [
    {
     "data": {
      "text/plain": [
       "[<matplotlib.lines.Line2D at 0x1d3cc6a2408>]"
      ]
     },
     "execution_count": 73,
     "metadata": {},
     "output_type": "execute_result"
    },
    {
     "data": {
      "image/png": "[encoded data removed]",
      "text/plain": [
       "<Figure size 432x288 with 1 Axes>"
      ]
     },
     "metadata": {
      "needs_background": "light"
     },
     "output_type": "display_data"
    }
   ],
   "source": [
    "plt.plot(T, [(np.average(ms[500:]) - np.average(m[500:])**2)/t for m,ms,t in zip(dm,dms,T)],'x')"
   ]
  },
  {
   "cell_type": "code",
   "execution_count": 279,
   "metadata": {},
   "outputs": [],
   "source": [
    "T= np.array(T)"
   ]
  },
  {
   "cell_type": "code",
   "execution_count": 281,
   "metadata": {},
   "outputs": [
    {
     "data": {
      "text/plain": [
       "array([1.  , 1.1 , 1.2 , 1.3 , 1.4 , 1.5 , 1.6 , 1.7 , 1.8 , 1.9 , 2.  ,\n",
       "       2.01, 2.02, 2.03, 2.04, 2.05, 2.06, 2.07, 2.08, 2.09, 2.1 , 2.1 ,\n",
       "       2.11, 2.12, 2.13, 2.14, 2.15, 2.16, 2.17, 2.18, 2.19, 2.2 , 2.2 ,\n",
       "       2.21, 2.22, 2.23, 2.24, 2.25, 2.26, 2.27, 2.28, 2.29, 2.3 , 2.3 ,\n",
       "       2.31, 2.32, 2.33, 2.34, 2.35, 2.36, 2.37, 2.38, 2.39, 2.4 , 2.4 ,\n",
       "       2.41, 2.42, 2.43, 2.44, 2.45, 2.46, 2.47, 2.48, 2.49, 2.5 , 2.5 ,\n",
       "       2.51, 2.52, 2.53, 2.54, 2.55, 2.56, 2.57, 2.58, 2.59, 2.6 , 2.6 ,\n",
       "       2.61, 2.62, 2.63, 2.64, 2.65, 2.66, 2.67, 2.68, 2.69, 2.7 , 2.7 ,\n",
       "       2.71, 2.72, 2.73, 2.74, 2.75, 2.76, 2.77, 2.78, 2.79, 2.8 , 2.8 ,\n",
       "       2.81, 2.82, 2.83, 2.84, 2.85, 2.86, 2.87, 2.88, 2.89, 2.9 , 2.9 ,\n",
       "       2.91, 2.92, 2.93, 2.94, 2.95, 2.96, 2.97, 2.98, 2.99, 3.  , 3.  ,\n",
       "       3.1 , 3.2 , 3.3 , 3.4 , 3.5 , 3.6 , 3.7 , 3.8 , 3.9 ])"
      ]
     },
     "execution_count": 281,
     "metadata": {},
     "output_type": "execute_result"
    }
   ],
   "source": [
    "T"
   ]
  },
  {
   "cell_type": "code",
   "execution_count": 293,
   "metadata": {
    "scrolled": true
   },
   "outputs": [
    {
     "data": {
      "text/plain": [
       "<matplotlib.lines.Line2D at 0x1d3f71bca08>"
      ]
     },
     "execution_count": 293,
     "metadata": {},
     "output_type": "execute_result"
    },
    {
     "data": {
      "image/png": "[encoded data removed]",
      "text/plain": [
       "<Figure size 432x288 with 1 Axes>"
      ]
     },
     "metadata": {
      "needs_background": "light"
     },
     "output_type": "display_data"
    }
   ],
   "source": [
    "plt.plot(abs(T-Tc), [(np.average(ms[2000:]) - np.average(m[2000:])**2)/t/16/16 for m,ms,t in zip(oe16,oes16,T)],'x')\n",
    "plt.plot(abs(T-Tc), [(np.average(ms[2000:]) - np.average(m[2000:])**2)/t/32/32 for m,ms,t in zip(oe32,oes32,T)],'x')\n",
    "plt.plot(abs(T-Tc), [(np.average(ms[2000:]) - np.average(m[2000:])**2)/t/64/64 for m,ms,t in zip(oe64,oes64,T)],'x')\n",
    "plt.axvline(x=0,c='red')\n",
    "#plt.xlim([2,3])"
   ]
  },
  {
   "cell_type": "code",
   "execution_count": 304,
   "metadata": {},
   "outputs": [],
   "source": []
  },
  {
   "cell_type": "code",
   "execution_count": 357,
   "metadata": {
    "scrolled": true
   },
   "outputs": [
    {
     "data": {
      "text/plain": [
       "<matplotlib.lines.Line2D at 0x1d381a14ec8>"
      ]
     },
     "execution_count": 357,
     "metadata": {},
     "output_type": "execute_result"
    },
    {
     "data": {
      "image/png": "[encoded data removed]",
      "text/plain": [
       "<Figure size 432x288 with 1 Axes>"
      ]
     },
     "metadata": {
      "needs_background": "light"
     },
     "output_type": "display_data"
    }
   ],
   "source": [
    "t = T - 2.2691\n",
    "plt.loglog(abs(t)*16, [(np.average(ms[2000:]) - np.average(m[2000:])**2)/t/16/16 for m,ms,t in zip(oe16,oes16,T)],'x')\n",
    "plt.loglog(abs(t)*32, [(np.average(ms[2000:]) - np.average(m[2000:])**2)/t/32/32 for m,ms,t in zip(oe32,oes32,T)],'x')\n",
    "plt.loglog(abs(t)*64, [(np.average(ms[2000:]) - np.average(m[2000:])**2)/t/64/64 for m,ms,t in zip(oe64,oes64,T)],'x')\n",
    "plt.xlim([0.1,1000])\n",
    "plt.axvline(x=0,c='red')\n",
    "#plt.xlim([2,3])"
   ]
  },
  {
   "cell_type": "code",
   "execution_count": 75,
   "metadata": {},
   "outputs": [
    {
     "data": {
      "text/plain": [
       "[<matplotlib.lines.Line2D at 0x1d3cc780a08>]"
      ]
     },
     "execution_count": 75,
     "metadata": {},
     "output_type": "execute_result"
    },
    {
     "data": {
      "image/png": "[encoded data removed]",
      "text/plain": [
       "<Figure size 432x288 with 1 Axes>"
      ]
     },
     "metadata": {
      "needs_background": "light"
     },
     "output_type": "display_data"
    }
   ],
   "source": [
    "plt.plot(T, [(np.average(ms[500:]) - np.average(m[500:])**2)/t for m,ms,t in zip(oe,oes,T)],'x')"
   ]
  },
  {
   "cell_type": "code",
   "execution_count": null,
   "metadata": {},
   "outputs": [],
   "source": []
  },
  {
   "cell_type": "code",
   "execution_count": 258,
   "metadata": {},
   "outputs": [
    {
     "data": {
      "text/plain": [
       "[<matplotlib.lines.Line2D at 0x1d3f425fcc8>]"
      ]
     },
     "execution_count": 258,
     "metadata": {},
     "output_type": "execute_result"
    },
    {
     "data": {
      "image/png": "[encoded data removed]",
      "text/plain": [
       "<Figure size 432x288 with 1 Axes>"
      ]
     },
     "metadata": {
      "needs_background": "light"
     },
     "output_type": "display_data"
    }
   ],
   "source": [
    "plt.plot(T, [np.average(e)/100 for e in de64])"
   ]
  },
  {
   "cell_type": "code",
   "execution_count": 261,
   "metadata": {},
   "outputs": [
    {
     "data": {
      "text/plain": [
       "(2, 3)"
      ]
     },
     "execution_count": 261,
     "metadata": {},
     "output_type": "execute_result"
    },
    {
     "data": {
      "image/png": "[encoded data removed]",
      "text/plain": [
       "<Figure size 432x288 with 1 Axes>"
      ]
     },
     "metadata": {
      "needs_background": "light"
     },
     "output_type": "display_data"
    }
   ],
   "source": [
    "plt.plot(T, [np.average(e)/16/16 for e in oe16])\n",
    "plt.plot(T, [np.average(e)/32/32 for e in oe32])\n",
    "plt.plot(T, [np.average(e)/64/64 for e in oe64])\n",
    "plt.xlim([2,3])"
   ]
  },
  {
   "cell_type": "code",
   "execution_count": 77,
   "metadata": {},
   "outputs": [
    {
     "data": {
      "text/plain": [
       "[<matplotlib.lines.Line2D at 0x1d3cc8607c8>]"
      ]
     },
     "execution_count": 77,
     "metadata": {},
     "output_type": "execute_result"
    },
    {
     "data": {
      "image/png": "[encoded data removed]",
      "text/plain": [
       "<Figure size 432x288 with 1 Axes>"
      ]
     },
     "metadata": {
      "needs_background": "light"
     },
     "output_type": "display_data"
    }
   ],
   "source": [
    "plt.plot((dm[-9]))"
   ]
  },
  {
   "cell_type": "code",
   "execution_count": 18,
   "metadata": {},
   "outputs": [],
   "source": [
    "T, H = np.array([T,H])"
   ]
  }
 ],
 "metadata": {
  "celltoolbar": "Slideshow",
  "kernelspec": {
   "display_name": "Python 3",
   "language": "python",
   "name": "python3"
  },
  "language_info": {
   "codemirror_mode": {
    "name": "ipython",
    "version": 3
   },
   "file_extension": ".py",
   "mimetype": "text/x-python",
   "name": "python",
   "nbconvert_exporter": "python",
   "pygments_lexer": "ipython3",
   "version": "3.7.4"
  }
 },
 "nbformat": 4,
 "nbformat_minor": 2
}
